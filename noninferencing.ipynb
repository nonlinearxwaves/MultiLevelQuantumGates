{
 "cells": [
  {
   "cell_type": "markdown",
   "metadata": {},
   "source": [
    "# Non-inferencing gates by recurrent NN"
   ]
  },
  {
   "cell_type": "markdown",
   "metadata": {},
   "source": [
    "Notebook for the example in figure 2 of https://arxiv.org/abs/1905.05264"
   ]
  },
  {
   "cell_type": "markdown",
   "metadata": {},
   "source": [
    "## Initial setup"
   ]
  },
  {
   "cell_type": "code",
   "execution_count": 5,
   "metadata": {},
   "outputs": [],
   "source": [
    "import sys\n",
    "import tensorflow as tf\n",
    "import numpy as np\n",
    "import matplotlib.pyplot as plt\n",
    "import time\n",
    "from datetime import datetime\n",
    "\n",
    "from utilitiesquantumgates import quantumgates \n",
    "from utilitiesquantumgates import utilities\n",
    "from tensorboardutilities import tensorboardutilities\n",
    "from datetime import datetime\n",
    "from stoppingRoutines import Stopper\n",
    "\n",
    "#%% set datatype\n",
    "datatype=np.complex64\n",
    "\n",
    "#%% set the tensorboard utilities\n",
    "tensorboarddir = tensorboardutilities.getdirname();\n",
    "\n",
    "#%% random seed \n",
    "timestamp = int(time.mktime(datetime.now().timetuple()))\n",
    "RANDOM_SEED=timestamp\n",
    "# seed random number generation\n",
    "tf.set_random_seed(RANDOM_SEED)\n",
    "np.random.seed(seed=RANDOM_SEED)\n"
   ]
  },
  {
   "cell_type": "markdown",
   "metadata": {},
   "source": [
    "## Hyperparameters "
   ]
  },
  {
   "cell_type": "code",
   "execution_count": 6,
   "metadata": {},
   "outputs": [],
   "source": [
    "#%% relaxation parameter\n",
    "mu=100\n",
    "#%% numer of dimensions\n",
    "N=3"
   ]
  },
  {
   "cell_type": "markdown",
   "metadata": {},
   "source": [
    "## Target matrix"
   ]
  },
  {
   "cell_type": "code",
   "execution_count": 7,
   "metadata": {},
   "outputs": [],
   "source": [
    "XT=tf.constant(quantumgates.Xgate(N,datatype))"
   ]
  },
  {
   "cell_type": "markdown",
   "metadata": {},
   "source": [
    "## Random medium matrix and other matrix and functions for the model"
   ]
  },
  {
   "cell_type": "code",
   "execution_count": 8,
   "metadata": {},
   "outputs": [],
   "source": [
    "U=tf.constant(quantumgates.randomU(N),datatype)\n",
    "\n",
    "TU=tf.transpose(U,conjugate=True)\n",
    "#%% neutral matrxi\n",
    "Neutral=tf.constant(np.zeros([N,N]),dtype=datatype)\n",
    "\n",
    "#%% identity matrix\n",
    "IE=tf.eye(N,dtype=datatype)\n",
    "\n",
    "#%% solution matrix, initially set to zero\n",
    "W0=tf.constant(np.zeros([N, N]),dtype=datatype)\n",
    "\n",
    "#%%relaxation\n",
    "tfmu=tf.constant(mu,dtype=np.float64)\n",
    "\n",
    "#%% function F \n",
    "def fun(W):\n",
    "    tmp=tf.matmul(U,W)-XT\n",
    "    return tmp\n",
    "\n",
    "#%% flux    \n",
    "def flux(W,t):\n",
    "    return -tf.scalar_mul(mu,tf.matmul(U,fun(W),adjoint_a=True))"
   ]
  },
  {
   "cell_type": "markdown",
   "metadata": {},
   "source": [
    "## Setup ode integrator ##"
   ]
  },
  {
   "cell_type": "code",
   "execution_count": 9,
   "metadata": {},
   "outputs": [],
   "source": [
    "#%% ode integrator\n",
    "points=200    \n",
    "t=np.linspace(0,1.1,num=points)\n",
    "tensor_state, tensor_info = tf.contrib.integrate.odeint(\n",
    "            flux, W0, t, rtol=1e-04, atol=1e-06,full_output=True,method='dopri5')\n",
    "Wfinal=tensor_state[-1,:,:]\n",
    "Xfinal=tf.matmul(U,Wfinal)\n",
    "Gfinal=fun(Wfinal)\n",
    "\n",
    "\n",
    "#%% error function\n",
    "error=tf.reduce_mean(tf.abs(fun(Wfinal)))"
   ]
  },
  {
   "cell_type": "markdown",
   "metadata": {},
   "source": [
    "## Run TF Session with plots and error ##"
   ]
  },
  {
   "cell_type": "code",
   "execution_count": 12,
   "metadata": {},
   "outputs": [
    {
     "name": "stdout",
     "output_type": "stream",
     "text": [
      "Structure matrix U\n",
      "[[-0.5-0.3j -0.4+0.1j  0.7+0.1j]\n",
      " [-0.1-0.5j -0.6+0.2j -0.5-0.4j]\n",
      " [-0.6-0.1j  0.3-0.7j -0.2-0.2j]]\n",
      "Solution Wf\n",
      "[[-0.6+0.1j -0.5+0.3j -0.1+0.5j]\n",
      " [ 0.3+0.7j -0.4-0.1j -0.6-0.2j]\n",
      " [-0.2+0.2j  0.7-0.1j -0.5+0.4j]]\n",
      "Check (must be equal to the target matrix) \n",
      "[[ 1.7e-06+3.7e-07j  1.0e+00-1.8e-07j  8.5e-07-1.3e-06j]\n",
      " [ 3.2e-07+2.1e-06j -7.5e-07-1.3e-06j  1.0e+00+1.2e-07j]\n",
      " [ 1.0e+00-2.3e-07j -6.3e-07-1.5e-06j -7.3e-08+7.5e-07j]]\n",
      "Target \n",
      "[[0.+0.j 1.+0.j 0.+0.j]\n",
      " [0.+0.j 0.+0.j 1.+0.j]\n",
      " [1.+0.j 0.+0.j 0.+0.j]]\n",
      "Final error \n",
      "3.3690274e-05\n"
     ]
    },
    {
     "data": {
      "image/png": "[encoded data removed]",
      "text/plain": [
       "<Figure size 432x288 with 1 Axes>"
      ]
     },
     "metadata": {
      "needs_background": "light"
     },
     "output_type": "display_data"
    }
   ],
   "source": [
    "with tf.Session()  as sess:\n",
    "    sess.run(tf.global_variables_initializer())\n",
    "    print('Structure matrix U')\n",
    "    print(U.eval())\n",
    "    state, info = sess.run([tensor_state, tensor_info])\n",
    "    Wf, Xf, Gf, ef = sess.run([Wfinal, Xfinal, Gfinal, error])\n",
    "\n",
    "    # plot the ode solution (this plot gives a warning message because is the plot of complex quantitis)\n",
    "    u13t=state.T # transpose\n",
    "    for i1 in range(N):\n",
    "        for i2 in range(N):\n",
    "           plt.plot(t,np.real(u13t[i1,i2,:]))\n",
    "    plt.ylabel('Real part of the solution matrix')\n",
    "    plt.xlabel('time t')\n",
    "    # export the figure in eps\n",
    "    plt.savefig('trainingnumpy.eps', format='eps', dpi=1000)\n",
    "\n",
    "    \n",
    "    print('Solution Wf')\n",
    "    np.set_printoptions(precision=1)\n",
    "    print(Wf)\n",
    "    print('Check (must be equal to the target matrix) ')    \n",
    "    np.set_printoptions(precision=1)\n",
    "    print(Xf)\n",
    "    print('Target ')\n",
    "    print(XT.eval())\n",
    "    \n",
    "    print('Final error ')\n",
    "    print(ef)\n",
    "        \n",
    "#%%\n",
    "sess.close()"
   ]
  },
  {
   "cell_type": "code",
   "execution_count": null,
   "metadata": {},
   "outputs": [],
   "source": []
  }
 ],
 "metadata": {
  "kernelspec": {
   "display_name": "Python 3",
   "language": "python",
   "name": "python3"
  },
  "language_info": {
   "codemirror_mode": {
    "name": "ipython",
    "version": 3
   },
   "file_extension": ".py",
   "mimetype": "text/x-python",
   "name": "python",
   "nbconvert_exporter": "python",
   "pygments_lexer": "ipython3",
   "version": "3.8.2"
  }
 },
 "nbformat": 4,
 "nbformat_minor": 4
}
