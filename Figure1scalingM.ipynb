{
 "cells": [
  {
   "cell_type": "markdown",
   "metadata": {},
   "source": [
    "# Study the scaling with M of a single qtrit gate"
   ]
  },
  {
   "cell_type": "markdown",
   "metadata": {},
   "source": [
    "Study of single qdit inference gate\n",
    "By Claudio\n",
    "Initial version 1 january 2019\n",
    "Current version 8 january 2019"
   ]
  },
  {
   "cell_type": "code",
   "execution_count": 1,
   "metadata": {},
   "outputs": [],
   "source": [
    "import sys\n",
    "import tensorflow as tf\n",
    "import numpy as np\n",
    "import time\n",
    "import matplotlib.pyplot as plt\n"
   ]
  },
  {
   "cell_type": "code",
   "execution_count": 2,
   "metadata": {},
   "outputs": [],
   "source": [
    "from utilitiesquantumgates import quantumgates \n",
    "from utilitiesquantumgates import quantumgatesinference \n",
    "from utilitiesquantumgates import utilities\n",
    "from tensorboardutilities import tensorboardutilities\n",
    "from datetime import datetime\n",
    "#%% datatypes\n",
    "npdatatype=np.complex64\n",
    "tfdatatype=tf.complex64\n",
    "tfrealdatatype=tf.float32 # to use double switch aboe to complex128"
   ]
  },
  {
   "cell_type": "code",
   "execution_count": 3,
   "metadata": {},
   "outputs": [],
   "source": [
    "N=3 # reduced dimensions"
   ]
  },
  {
   "cell_type": "code",
   "execution_count": 4,
   "metadata": {},
   "outputs": [],
   "source": [
    "X_np=quantumgates.Xgate(N,npdatatype)"
   ]
  },
  {
   "cell_type": "code",
   "execution_count": 5,
   "metadata": {},
   "outputs": [
    {
     "name": "stdout",
     "output_type": "stream",
     "text": [
      "+0.0+0.0i +1.0+0.0i +0.0+0.0i \n",
      "+0.0+0.0i +0.0+0.0i +1.0+0.0i \n",
      "+1.0+0.0i +0.0+0.0i +0.0+0.0i \n"
     ]
    }
   ],
   "source": [
    "# print(\"Single qdit gate X\")\n",
    "utilities.printonscreennp(X_np)    \n",
    "        "
   ]
  },
  {
   "cell_type": "markdown",
   "metadata": {},
   "source": [
    "## Test training for N=3 and M=5"
   ]
  },
  {
   "cell_type": "code",
   "execution_count": 6,
   "metadata": {},
   "outputs": [
    {
     "name": "stdout",
     "output_type": "stream",
     "text": [
      "Random seed = 1585906234\n",
      "Running with M 5 ntrain 100 nvalid 50\n",
      "epoch 0\n",
      "cost 0.32527642929926515\n",
      "valid cost 0.04315258301794529\n",
      "epoch 2\n",
      "cost 0.013138418255839496\n",
      "valid cost 0.010247853200417012\n",
      "epoch 4\n",
      "cost 0.0025055992814304773\n",
      "valid cost 0.001971637404640205\n",
      "epoch 6\n",
      "cost 0.0003767271775723202\n",
      "valid cost 0.0002972661160492862\n",
      "epoch 8\n",
      "cost 4.5218804746127714e-05\n",
      "valid cost 3.6758906460363506e-05\n",
      "Convergence in validation reached at epoch 8\n",
      "Final Sinput=W\n",
      "-0.2+0.2i -0.2+0.0i -0.5+0.4i +0.6-0.3i -0.1+0.1i \n",
      "+0.3+0.2i +0.5-0.1i -0.5-0.2i -0.1-0.1i +0.5-0.1i \n",
      "-0.4-0.2i +0.4+0.2i +0.3-0.0i +0.3-0.2i +0.3-0.6i \n",
      "-0.0-0.1i +0.6+0.5i -0.2+0.3i -0.1+0.3i -0.4+0.1i \n",
      "+0.4+0.6i -0.1+0.1i +0.3+0.1i +0.3+0.4i +0.0-0.3i \n",
      "Final TV V for unitarity \n",
      "+1.0+0.0i +0.0+0.0i -0.0+0.0i +0.0-0.0i +0.0-0.0i \n",
      "+0.0-0.0i +1.0+0.0i -0.0-0.0i +0.0+0.0i +0.0+0.0i \n",
      "-0.0-0.0i -0.0+0.0i +1.0+0.0i +0.0+0.0i +0.0+0.0i \n",
      "+0.0+0.0i +0.0-0.0i +0.0-0.0i +1.0+0.0i -0.0-0.0i \n",
      "+0.0+0.0i +0.0-0.0i +0.0-0.0i -0.0+0.0i +1.0+0.0i \n",
      "Initial T\n",
      "+0.7-0.0i +0.8+0.4i +0.8+0.1i +1.2+0.1i +0.6+0.4i \n",
      "+0.1-0.8i -0.2-0.3i +0.5+0.1i +0.3-0.7i -0.4-0.5i \n",
      "+0.6-0.5i +0.4-0.1i +0.4-0.4i +0.6-0.7i +0.7-0.1i \n",
      "+0.1-0.3i +0.2+0.2i +0.2+0.3i +0.5-0.0i +0.3+0.1i \n",
      "-0.7-0.7i -0.5+0.0i -1.2-0.4i -1.4-1.0i -0.4+0.0i \n",
      "Final T\n",
      "+0.0-0.0i +1.0-0.0i -0.0-0.0i +0.0+0.0i -0.0+0.0i \n",
      "-0.0-0.0i -0.0-0.0i +1.0+0.0i +0.0-0.0i -0.0+0.0i \n",
      "+1.0+0.0i +0.0+0.0i -0.0+0.0i -0.0-0.0i +0.0+0.0i \n",
      "+0.0-0.0i -0.0-0.0i -0.0-0.0i -0.3-0.6i +0.5-0.5i \n",
      "-0.0+0.0i +0.0+0.0i -0.0+0.0i -0.7-0.0i +0.1+0.7i \n"
     ]
    }
   ],
   "source": [
    "out, Sin, Tfinal, Tinitial=quantumgatesinference.trainrandom(X_np,5)"
   ]
  },
  {
   "cell_type": "code",
   "execution_count": 7,
   "metadata": {},
   "outputs": [
    {
     "name": "stdout",
     "output_type": "stream",
     "text": [
      "{'accuracy': 0.0001, 'epoch': 8, 'ntrain': 100, 'nvalid': 50, 'N': 3, 'M': 5, 'X': array([[0.+0.j, 1.+0.j, 0.+0.j],\n",
      "       [0.+0.j, 0.+0.j, 1.+0.j],\n",
      "       [1.+0.j, 0.+0.j, 0.+0.j]], dtype=complex64)}\n"
     ]
    }
   ],
   "source": [
    "print(out)"
   ]
  },
  {
   "cell_type": "markdown",
   "metadata": {},
   "source": [
    "## Test training for N=3 and M=10 "
   ]
  },
  {
   "cell_type": "code",
   "execution_count": 8,
   "metadata": {},
   "outputs": [
    {
     "name": "stdout",
     "output_type": "stream",
     "text": [
      "Running with M 12 ntrain 100 nvalid 50\n",
      "Convergence in validation reached at epoch 14\n"
     ]
    }
   ],
   "source": [
    "out, _, Tfinal, _=quantumgatesinference.trainrandom(X_np,12,1)"
   ]
  },
  {
   "cell_type": "code",
   "execution_count": 9,
   "metadata": {},
   "outputs": [
    {
     "name": "stdout",
     "output_type": "stream",
     "text": [
      "{'accuracy': 0.0001, 'epoch': 14, 'ntrain': 100, 'nvalid': 50, 'N': 3, 'M': 12, 'X': array([[0.+0.j, 1.+0.j, 0.+0.j],\n",
      "       [0.+0.j, 0.+0.j, 1.+0.j],\n",
      "       [1.+0.j, 0.+0.j, 0.+0.j]], dtype=complex64)}\n"
     ]
    }
   ],
   "source": [
    "print(out)"
   ]
  },
  {
   "cell_type": "code",
   "execution_count": 10,
   "metadata": {},
   "outputs": [
    {
     "name": "stdout",
     "output_type": "stream",
     "text": [
      "14\n"
     ]
    }
   ],
   "source": [
    "Nepoch=out['epoch'];print(Nepoch)"
   ]
  },
  {
   "cell_type": "code",
   "execution_count": 11,
   "metadata": {},
   "outputs": [
    {
     "name": "stdout",
     "output_type": "stream",
     "text": [
      "-0.0-0.0i +1.0-0.0i +0.0-0.0i +0.0-0.0i +0.0-0.0i -0.0+0.0i +0.0+0.0i -0.0-0.0i +0.0+0.0i +0.0+0.0i +0.0+0.0i +0.0+0.0i \n",
      "-0.0+0.0i -0.0-0.0i +1.0-0.0i +0.0+0.0i -0.0+0.0i -0.0+0.0i -0.0-0.0i -0.0-0.0i +0.0+0.0i +0.0+0.0i +0.0+0.0i +0.0-0.0i \n",
      "+1.0+0.0i +0.0-0.0i +0.0-0.0i -0.0+0.0i +0.0-0.0i +0.0-0.0i +0.0-0.0i +0.0+0.0i -0.0-0.0i -0.0+0.0i -0.0+0.0i +0.0+0.0i \n",
      "+0.0-0.0i -0.0-0.0i +0.0+0.0i -0.3-0.3i -0.1-0.2i +0.2+0.2i -0.3-0.5i +0.3-0.1i -0.2-0.0i +0.2-0.1i +0.3-0.2i +0.2-0.1i \n",
      "-0.0-0.0i -0.0-0.0i -0.0-0.0i -0.3-0.2i -0.2+0.2i +0.1+0.3i +0.1+0.1i +0.1+0.4i +0.1+0.2i -0.3-0.0i -0.2+0.3i +0.3-0.1i \n",
      "-0.0+0.0i +0.0-0.0i +0.0-0.0i -0.3-0.3i -0.0-0.1i -0.0-0.3i +0.1+0.3i +0.2-0.1i +0.4-0.0i +0.1-0.4i +0.2+0.1i +0.0+0.3i \n",
      "+0.0-0.0i -0.0-0.0i +0.0-0.0i -0.2-0.0i -0.2+0.4i +0.3+0.3i +0.0+0.1i -0.4-0.2i -0.2-0.2i +0.2-0.1i +0.2+0.3i -0.2+0.2i \n",
      "+0.0-0.0i -0.0+0.0i +0.0+0.0i -0.2-0.3i +0.2+0.2i -0.1-0.3i +0.1-0.3i -0.2-0.4i -0.0+0.3i -0.2+0.2i -0.3+0.1i +0.1+0.2i \n",
      "-0.0-0.0i +0.0+0.0i +0.0+0.0i -0.2-0.1i +0.3+0.3i -0.3-0.1i -0.2-0.0i +0.1+0.1i -0.2-0.4i +0.2-0.2i -0.3+0.1i -0.2-0.1i \n",
      "+0.0-0.0i -0.0+0.0i +0.0+0.0i -0.2-0.3i +0.1+0.0i -0.1+0.2i +0.1-0.0i -0.1+0.1i +0.2+0.0i -0.4+0.2i +0.1-0.4i -0.6-0.1i \n",
      "+0.0-0.0i +0.0-0.0i +0.0+0.0i +0.0-0.2i +0.5-0.1i +0.3+0.3i +0.2+0.3i -0.0-0.3i +0.2-0.2i +0.1+0.0i -0.2-0.3i +0.3-0.2i \n",
      "+0.0-0.0i +0.0-0.0i +0.0-0.0i -0.2-0.2i -0.2-0.0i -0.2-0.2i +0.2+0.4i +0.0+0.1i -0.5+0.1i +0.2+0.5i +0.2-0.1i +0.1-0.1i \n"
     ]
    }
   ],
   "source": [
    "utilities.printonscreennp(Tfinal)"
   ]
  },
  {
   "cell_type": "markdown",
   "metadata": {},
   "source": [
    "## Scaling of needed epochs with respect to M"
   ]
  },
  {
   "cell_type": "code",
   "execution_count": 12,
   "metadata": {},
   "outputs": [
    {
     "name": "stdout",
     "output_type": "stream",
     "text": [
      "Running with M 3 ntrain 300 nvalid 50\n",
      "Convergence in validation reached at epoch 2\n",
      "Running with M 8 ntrain 300 nvalid 50\n",
      "Convergence in validation reached at epoch 4\n",
      "Running with M 13 ntrain 300 nvalid 50\n",
      "Convergence in validation reached at epoch 4\n",
      "Running with M 18 ntrain 300 nvalid 50\n",
      "Convergence in validation reached at epoch 6\n",
      "Running with M 23 ntrain 300 nvalid 50\n",
      "Convergence in validation reached at epoch 6\n",
      "Running with M 28 ntrain 300 nvalid 50\n",
      "Convergence in validation reached at epoch 8\n",
      "Running with M 33 ntrain 300 nvalid 50\n",
      "Convergence in validation reached at epoch 8\n",
      "Running with M 38 ntrain 300 nvalid 50\n",
      "Convergence in validation reached at epoch 8\n",
      "Running with M 43 ntrain 300 nvalid 50\n"
     ]
    },
    {
     "ename": "KeyboardInterrupt",
     "evalue": "",
     "output_type": "error",
     "traceback": [
      "\u001b[1;31m---------------------------------------------------------------------------\u001b[0m",
      "\u001b[1;31mKeyboardInterrupt\u001b[0m                         Traceback (most recent call last)",
      "\u001b[1;32m<ipython-input-12-f809fdf9fab1>\u001b[0m in \u001b[0;36m<module>\u001b[1;34m\u001b[0m\n\u001b[0;32m      7\u001b[0m \u001b[1;32mfor\u001b[0m \u001b[0mim\u001b[0m \u001b[1;32min\u001b[0m \u001b[0mrange\u001b[0m\u001b[1;33m(\u001b[0m\u001b[0mMmin\u001b[0m\u001b[1;33m,\u001b[0m\u001b[0mMmax\u001b[0m\u001b[1;33m+\u001b[0m\u001b[1;36m1\u001b[0m\u001b[1;33m,\u001b[0m\u001b[1;36m5\u001b[0m\u001b[1;33m)\u001b[0m\u001b[1;33m:\u001b[0m\u001b[1;33m\u001b[0m\u001b[1;33m\u001b[0m\u001b[0m\n\u001b[0;32m      8\u001b[0m     \u001b[0mMs\u001b[0m\u001b[1;33m.\u001b[0m\u001b[0mappend\u001b[0m\u001b[1;33m(\u001b[0m\u001b[0mim\u001b[0m\u001b[1;33m)\u001b[0m\u001b[1;33m\u001b[0m\u001b[1;33m\u001b[0m\u001b[0m\n\u001b[1;32m----> 9\u001b[1;33m     \u001b[0mout\u001b[0m\u001b[1;33m,\u001b[0m \u001b[0m_\u001b[0m\u001b[1;33m,\u001b[0m \u001b[0m_\u001b[0m\u001b[1;33m,\u001b[0m \u001b[0m_\u001b[0m\u001b[1;33m=\u001b[0m\u001b[0mquantumgatesinference\u001b[0m\u001b[1;33m.\u001b[0m\u001b[0mtrainrandom\u001b[0m\u001b[1;33m(\u001b[0m\u001b[0mX_np\u001b[0m\u001b[1;33m,\u001b[0m\u001b[0mim\u001b[0m\u001b[1;33m,\u001b[0m\u001b[0mverbose\u001b[0m\u001b[1;33m=\u001b[0m\u001b[1;36m1\u001b[0m\u001b[1;33m,\u001b[0m\u001b[0mntrain\u001b[0m\u001b[1;33m=\u001b[0m\u001b[1;36m300\u001b[0m\u001b[1;33m)\u001b[0m\u001b[1;33m\u001b[0m\u001b[1;33m\u001b[0m\u001b[0m\n\u001b[0m\u001b[0;32m     10\u001b[0m     \u001b[0mNepoch\u001b[0m\u001b[1;33m.\u001b[0m\u001b[0mappend\u001b[0m\u001b[1;33m(\u001b[0m\u001b[0mout\u001b[0m\u001b[1;33m[\u001b[0m\u001b[1;34m'epoch'\u001b[0m\u001b[1;33m]\u001b[0m\u001b[1;33m)\u001b[0m\u001b[1;33m\u001b[0m\u001b[1;33m\u001b[0m\u001b[0m\n\u001b[0;32m     11\u001b[0m     \u001b[0mcount\u001b[0m\u001b[1;33m=\u001b[0m\u001b[0mcount\u001b[0m\u001b[1;33m+\u001b[0m\u001b[1;36m1\u001b[0m\u001b[1;33m\u001b[0m\u001b[1;33m\u001b[0m\u001b[0m\n",
      "\u001b[1;32mC:\\Users\\nonli\\Dropbox\\PythonClaudio\\quomplex\\codeOpEx2020TF1\\utilitiesquantumgates.py\u001b[0m in \u001b[0;36mtrainrandom\u001b[1;34m(X_np, M, verbose, inputaccuracy, ntrain, nvalid)\u001b[0m\n\u001b[0;32m    479\u001b[0m                 \u001b[1;32mfor\u001b[0m \u001b[0mi\u001b[0m \u001b[1;32min\u001b[0m \u001b[0mrange\u001b[0m\u001b[1;33m(\u001b[0m\u001b[0mntrain\u001b[0m\u001b[1;33m)\u001b[0m\u001b[1;33m:\u001b[0m\u001b[1;33m\u001b[0m\u001b[1;33m\u001b[0m\u001b[0m\n\u001b[0;32m    480\u001b[0m                    \u001b[0mxtmp\u001b[0m\u001b[1;33m=\u001b[0m\u001b[0mnp\u001b[0m\u001b[1;33m.\u001b[0m\u001b[0mreshape\u001b[0m\u001b[1;33m(\u001b[0m\u001b[0mxtrains\u001b[0m\u001b[1;33m[\u001b[0m\u001b[1;36m0\u001b[0m\u001b[1;33m:\u001b[0m\u001b[0mM\u001b[0m\u001b[1;33m,\u001b[0m\u001b[0mi\u001b[0m\u001b[1;33m]\u001b[0m\u001b[1;33m,\u001b[0m\u001b[1;33m(\u001b[0m\u001b[0mM\u001b[0m\u001b[1;33m,\u001b[0m\u001b[1;36m1\u001b[0m\u001b[1;33m)\u001b[0m\u001b[1;33m)\u001b[0m\u001b[1;33m\u001b[0m\u001b[1;33m\u001b[0m\u001b[0m\n\u001b[1;32m--> 481\u001b[1;33m                    \u001b[0msess\u001b[0m\u001b[1;33m.\u001b[0m\u001b[0mrun\u001b[0m\u001b[1;33m(\u001b[0m\u001b[0moptimizer\u001b[0m\u001b[1;33m,\u001b[0m\u001b[0mfeed_dict\u001b[0m\u001b[1;33m=\u001b[0m\u001b[1;33m{\u001b[0m\u001b[0mx\u001b[0m\u001b[1;33m:\u001b[0m \u001b[0mxtmp\u001b[0m\u001b[1;33m}\u001b[0m\u001b[1;33m)\u001b[0m\u001b[1;33m\u001b[0m\u001b[1;33m\u001b[0m\u001b[0m\n\u001b[0m\u001b[0;32m    482\u001b[0m                    \u001b[0mavg_cost\u001b[0m\u001b[1;33m+=\u001b[0m\u001b[0msess\u001b[0m\u001b[1;33m.\u001b[0m\u001b[0mrun\u001b[0m\u001b[1;33m(\u001b[0m\u001b[0mcost_function\u001b[0m\u001b[1;33m,\u001b[0m \u001b[0mfeed_dict\u001b[0m\u001b[1;33m=\u001b[0m\u001b[1;33m{\u001b[0m\u001b[0mx\u001b[0m\u001b[1;33m:\u001b[0m \u001b[0mxtmp\u001b[0m\u001b[1;33m}\u001b[0m\u001b[1;33m)\u001b[0m\u001b[1;33m\u001b[0m\u001b[1;33m\u001b[0m\u001b[0m\n\u001b[0;32m    483\u001b[0m                    \u001b[0msummary\u001b[0m\u001b[1;33m=\u001b[0m\u001b[0msess\u001b[0m\u001b[1;33m.\u001b[0m\u001b[0mrun\u001b[0m\u001b[1;33m(\u001b[0m\u001b[0mmerged\u001b[0m\u001b[1;33m,\u001b[0m \u001b[0mfeed_dict\u001b[0m\u001b[1;33m=\u001b[0m\u001b[1;33m{\u001b[0m\u001b[0mx\u001b[0m\u001b[1;33m:\u001b[0m \u001b[0mxtmp\u001b[0m\u001b[1;33m}\u001b[0m\u001b[1;33m)\u001b[0m\u001b[1;33m\u001b[0m\u001b[1;33m\u001b[0m\u001b[0m\n",
      "\u001b[1;32mC:\\Users\\nonli\\Anaconda3\\envs\\tensorflow 1\\lib\\site-packages\\tensorflow\\python\\client\\session.py\u001b[0m in \u001b[0;36mrun\u001b[1;34m(self, fetches, feed_dict, options, run_metadata)\u001b[0m\n\u001b[0;32m    927\u001b[0m     \u001b[1;32mtry\u001b[0m\u001b[1;33m:\u001b[0m\u001b[1;33m\u001b[0m\u001b[1;33m\u001b[0m\u001b[0m\n\u001b[0;32m    928\u001b[0m       result = self._run(None, fetches, feed_dict, options_ptr,\n\u001b[1;32m--> 929\u001b[1;33m                          run_metadata_ptr)\n\u001b[0m\u001b[0;32m    930\u001b[0m       \u001b[1;32mif\u001b[0m \u001b[0mrun_metadata\u001b[0m\u001b[1;33m:\u001b[0m\u001b[1;33m\u001b[0m\u001b[1;33m\u001b[0m\u001b[0m\n\u001b[0;32m    931\u001b[0m         \u001b[0mproto_data\u001b[0m \u001b[1;33m=\u001b[0m \u001b[0mtf_session\u001b[0m\u001b[1;33m.\u001b[0m\u001b[0mTF_GetBuffer\u001b[0m\u001b[1;33m(\u001b[0m\u001b[0mrun_metadata_ptr\u001b[0m\u001b[1;33m)\u001b[0m\u001b[1;33m\u001b[0m\u001b[1;33m\u001b[0m\u001b[0m\n",
      "\u001b[1;32mC:\\Users\\nonli\\Anaconda3\\envs\\tensorflow 1\\lib\\site-packages\\tensorflow\\python\\client\\session.py\u001b[0m in \u001b[0;36m_run\u001b[1;34m(self, handle, fetches, feed_dict, options, run_metadata)\u001b[0m\n\u001b[0;32m   1150\u001b[0m     \u001b[1;32mif\u001b[0m \u001b[0mfinal_fetches\u001b[0m \u001b[1;32mor\u001b[0m \u001b[0mfinal_targets\u001b[0m \u001b[1;32mor\u001b[0m \u001b[1;33m(\u001b[0m\u001b[0mhandle\u001b[0m \u001b[1;32mand\u001b[0m \u001b[0mfeed_dict_tensor\u001b[0m\u001b[1;33m)\u001b[0m\u001b[1;33m:\u001b[0m\u001b[1;33m\u001b[0m\u001b[1;33m\u001b[0m\u001b[0m\n\u001b[0;32m   1151\u001b[0m       results = self._do_run(handle, final_targets, final_fetches,\n\u001b[1;32m-> 1152\u001b[1;33m                              feed_dict_tensor, options, run_metadata)\n\u001b[0m\u001b[0;32m   1153\u001b[0m     \u001b[1;32melse\u001b[0m\u001b[1;33m:\u001b[0m\u001b[1;33m\u001b[0m\u001b[1;33m\u001b[0m\u001b[0m\n\u001b[0;32m   1154\u001b[0m       \u001b[0mresults\u001b[0m \u001b[1;33m=\u001b[0m \u001b[1;33m[\u001b[0m\u001b[1;33m]\u001b[0m\u001b[1;33m\u001b[0m\u001b[1;33m\u001b[0m\u001b[0m\n",
      "\u001b[1;32mC:\\Users\\nonli\\Anaconda3\\envs\\tensorflow 1\\lib\\site-packages\\tensorflow\\python\\client\\session.py\u001b[0m in \u001b[0;36m_do_run\u001b[1;34m(self, handle, target_list, fetch_list, feed_dict, options, run_metadata)\u001b[0m\n\u001b[0;32m   1326\u001b[0m     \u001b[1;32mif\u001b[0m \u001b[0mhandle\u001b[0m \u001b[1;32mis\u001b[0m \u001b[1;32mNone\u001b[0m\u001b[1;33m:\u001b[0m\u001b[1;33m\u001b[0m\u001b[1;33m\u001b[0m\u001b[0m\n\u001b[0;32m   1327\u001b[0m       return self._do_call(_run_fn, feeds, fetches, targets, options,\n\u001b[1;32m-> 1328\u001b[1;33m                            run_metadata)\n\u001b[0m\u001b[0;32m   1329\u001b[0m     \u001b[1;32melse\u001b[0m\u001b[1;33m:\u001b[0m\u001b[1;33m\u001b[0m\u001b[1;33m\u001b[0m\u001b[0m\n\u001b[0;32m   1330\u001b[0m       \u001b[1;32mreturn\u001b[0m \u001b[0mself\u001b[0m\u001b[1;33m.\u001b[0m\u001b[0m_do_call\u001b[0m\u001b[1;33m(\u001b[0m\u001b[0m_prun_fn\u001b[0m\u001b[1;33m,\u001b[0m \u001b[0mhandle\u001b[0m\u001b[1;33m,\u001b[0m \u001b[0mfeeds\u001b[0m\u001b[1;33m,\u001b[0m \u001b[0mfetches\u001b[0m\u001b[1;33m)\u001b[0m\u001b[1;33m\u001b[0m\u001b[1;33m\u001b[0m\u001b[0m\n",
      "\u001b[1;32mC:\\Users\\nonli\\Anaconda3\\envs\\tensorflow 1\\lib\\site-packages\\tensorflow\\python\\client\\session.py\u001b[0m in \u001b[0;36m_do_call\u001b[1;34m(self, fn, *args)\u001b[0m\n\u001b[0;32m   1332\u001b[0m   \u001b[1;32mdef\u001b[0m \u001b[0m_do_call\u001b[0m\u001b[1;33m(\u001b[0m\u001b[0mself\u001b[0m\u001b[1;33m,\u001b[0m \u001b[0mfn\u001b[0m\u001b[1;33m,\u001b[0m \u001b[1;33m*\u001b[0m\u001b[0margs\u001b[0m\u001b[1;33m)\u001b[0m\u001b[1;33m:\u001b[0m\u001b[1;33m\u001b[0m\u001b[1;33m\u001b[0m\u001b[0m\n\u001b[0;32m   1333\u001b[0m     \u001b[1;32mtry\u001b[0m\u001b[1;33m:\u001b[0m\u001b[1;33m\u001b[0m\u001b[1;33m\u001b[0m\u001b[0m\n\u001b[1;32m-> 1334\u001b[1;33m       \u001b[1;32mreturn\u001b[0m \u001b[0mfn\u001b[0m\u001b[1;33m(\u001b[0m\u001b[1;33m*\u001b[0m\u001b[0margs\u001b[0m\u001b[1;33m)\u001b[0m\u001b[1;33m\u001b[0m\u001b[1;33m\u001b[0m\u001b[0m\n\u001b[0m\u001b[0;32m   1335\u001b[0m     \u001b[1;32mexcept\u001b[0m \u001b[0merrors\u001b[0m\u001b[1;33m.\u001b[0m\u001b[0mOpError\u001b[0m \u001b[1;32mas\u001b[0m \u001b[0me\u001b[0m\u001b[1;33m:\u001b[0m\u001b[1;33m\u001b[0m\u001b[1;33m\u001b[0m\u001b[0m\n\u001b[0;32m   1336\u001b[0m       \u001b[0mmessage\u001b[0m \u001b[1;33m=\u001b[0m \u001b[0mcompat\u001b[0m\u001b[1;33m.\u001b[0m\u001b[0mas_text\u001b[0m\u001b[1;33m(\u001b[0m\u001b[0me\u001b[0m\u001b[1;33m.\u001b[0m\u001b[0mmessage\u001b[0m\u001b[1;33m)\u001b[0m\u001b[1;33m\u001b[0m\u001b[1;33m\u001b[0m\u001b[0m\n",
      "\u001b[1;32mC:\\Users\\nonli\\Anaconda3\\envs\\tensorflow 1\\lib\\site-packages\\tensorflow\\python\\client\\session.py\u001b[0m in \u001b[0;36m_run_fn\u001b[1;34m(feed_dict, fetch_list, target_list, options, run_metadata)\u001b[0m\n\u001b[0;32m   1317\u001b[0m       \u001b[0mself\u001b[0m\u001b[1;33m.\u001b[0m\u001b[0m_extend_graph\u001b[0m\u001b[1;33m(\u001b[0m\u001b[1;33m)\u001b[0m\u001b[1;33m\u001b[0m\u001b[1;33m\u001b[0m\u001b[0m\n\u001b[0;32m   1318\u001b[0m       return self._call_tf_sessionrun(\n\u001b[1;32m-> 1319\u001b[1;33m           options, feed_dict, fetch_list, target_list, run_metadata)\n\u001b[0m\u001b[0;32m   1320\u001b[0m \u001b[1;33m\u001b[0m\u001b[0m\n\u001b[0;32m   1321\u001b[0m     \u001b[1;32mdef\u001b[0m \u001b[0m_prun_fn\u001b[0m\u001b[1;33m(\u001b[0m\u001b[0mhandle\u001b[0m\u001b[1;33m,\u001b[0m \u001b[0mfeed_dict\u001b[0m\u001b[1;33m,\u001b[0m \u001b[0mfetch_list\u001b[0m\u001b[1;33m)\u001b[0m\u001b[1;33m:\u001b[0m\u001b[1;33m\u001b[0m\u001b[1;33m\u001b[0m\u001b[0m\n",
      "\u001b[1;32mC:\\Users\\nonli\\Anaconda3\\envs\\tensorflow 1\\lib\\site-packages\\tensorflow\\python\\client\\session.py\u001b[0m in \u001b[0;36m_call_tf_sessionrun\u001b[1;34m(self, options, feed_dict, fetch_list, target_list, run_metadata)\u001b[0m\n\u001b[0;32m   1405\u001b[0m     return tf_session.TF_SessionRun_wrapper(\n\u001b[0;32m   1406\u001b[0m         \u001b[0mself\u001b[0m\u001b[1;33m.\u001b[0m\u001b[0m_session\u001b[0m\u001b[1;33m,\u001b[0m \u001b[0moptions\u001b[0m\u001b[1;33m,\u001b[0m \u001b[0mfeed_dict\u001b[0m\u001b[1;33m,\u001b[0m \u001b[0mfetch_list\u001b[0m\u001b[1;33m,\u001b[0m \u001b[0mtarget_list\u001b[0m\u001b[1;33m,\u001b[0m\u001b[1;33m\u001b[0m\u001b[1;33m\u001b[0m\u001b[0m\n\u001b[1;32m-> 1407\u001b[1;33m         run_metadata)\n\u001b[0m\u001b[0;32m   1408\u001b[0m \u001b[1;33m\u001b[0m\u001b[0m\n\u001b[0;32m   1409\u001b[0m   \u001b[1;32mdef\u001b[0m \u001b[0m_call_tf_sessionprun\u001b[0m\u001b[1;33m(\u001b[0m\u001b[0mself\u001b[0m\u001b[1;33m,\u001b[0m \u001b[0mhandle\u001b[0m\u001b[1;33m,\u001b[0m \u001b[0mfeed_dict\u001b[0m\u001b[1;33m,\u001b[0m \u001b[0mfetch_list\u001b[0m\u001b[1;33m)\u001b[0m\u001b[1;33m:\u001b[0m\u001b[1;33m\u001b[0m\u001b[1;33m\u001b[0m\u001b[0m\n",
      "\u001b[1;31mKeyboardInterrupt\u001b[0m: "
     ]
    }
   ],
   "source": [
    "Mmin=3\n",
    "Mmax=100\n",
    "step=5\n",
    "Ms=list()\n",
    "Nepoch=list()\n",
    "count=0\n",
    "for im in range(Mmin,Mmax+1,5):\n",
    "    Ms.append(im)\n",
    "    out, _, _, _=quantumgatesinference.trainrandom(X_np,im,verbose=1,ntrain=300)\n",
    "    Nepoch.append(out['epoch'])\n",
    "    count=count+1\n",
    "    "
   ]
  },
  {
   "cell_type": "code",
   "execution_count": 29,
   "metadata": {},
   "outputs": [
    {
     "data": {
      "image/png": "[encoded data removed]",
      "text/plain": [
       "<Figure size 432x288 with 1 Axes>"
      ]
     },
     "metadata": {
      "needs_background": "light"
     },
     "output_type": "display_data"
    }
   ],
   "source": [
    "plt.plot(Ms,Nepoch)\n",
    "plt.savefig('figurescaling.eps', dpi=600, facecolor='w', edgecolor='w',\n",
    "        orientation='portrait', papertype=None, format='eps',\n",
    "        transparent=False, bbox_inches=None, pad_inches=0.1,\n",
    "        frameon=None, metadata=None)"
   ]
  },
  {
   "cell_type": "code",
   "execution_count": 19,
   "metadata": {},
   "outputs": [
    {
     "name": "stdout",
     "output_type": "stream",
     "text": [
      "[2, 4]\n"
     ]
    }
   ],
   "source": [
    "print(Nepoch)"
   ]
  },
  {
   "cell_type": "code",
   "execution_count": 15,
   "metadata": {},
   "outputs": [
    {
     "name": "stdout",
     "output_type": "stream",
     "text": [
      "{'accuracy': 0.0001, 'epoch': 4, 'ntrain': 300, 'nvalid': 50, 'N': 3, 'M': 8, 'X': array([[0.+0.j, 1.+0.j, 0.+0.j],\n",
      "       [0.+0.j, 0.+0.j, 1.+0.j],\n",
      "       [1.+0.j, 0.+0.j, 0.+0.j]], dtype=complex64)}\n"
     ]
    }
   ],
   "source": [
    "print(out)"
   ]
  },
  {
   "cell_type": "code",
   "execution_count": 20,
   "metadata": {},
   "outputs": [
    {
     "name": "stdout",
     "output_type": "stream",
     "text": [
      "[3, 8]\n"
     ]
    }
   ],
   "source": [
    "print(Ms)"
   ]
  },
  {
   "cell_type": "code",
   "execution_count": 17,
   "metadata": {},
   "outputs": [
    {
     "name": "stdout",
     "output_type": "stream",
     "text": [
      "[2 4 0 0 0 0 0 0]\n"
     ]
    }
   ],
   "source": [
    "print(Nepoch)"
   ]
  },
  {
   "cell_type": "code",
   "execution_count": null,
   "metadata": {},
   "outputs": [],
   "source": []
  }
 ],
 "metadata": {
  "kernelspec": {
   "display_name": "Python 3",
   "language": "python",
   "name": "python3"
  },
  "language_info": {
   "codemirror_mode": {
    "name": "ipython",
    "version": 3
   },
   "file_extension": ".py",
   "mimetype": "text/x-python",
   "name": "python",
   "nbconvert_exporter": "python",
   "pygments_lexer": "ipython3",
   "version": "3.6.7"
  }
 },
 "nbformat": 4,
 "nbformat_minor": 4
}
