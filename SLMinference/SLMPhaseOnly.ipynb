{
 "cells": [
  {
   "cell_type": "markdown",
   "metadata": {},
   "source": [
    "# Training of phase only SLM quantized #"
   ]
  },
  {
   "cell_type": "markdown",
   "metadata": {},
   "source": [
    "Figure 4 of the manuscript \n",
    "\n",
    "Make also scaling test\n",
    "\n",
    "*Important, the training is done by a single input because this correspond to the plane wave input in the SLM only implementation*\n",
    "\n",
    "**Remark run with tensorflow==1.15** \n",
    "\n",
    "(pip install tensorflow==1.15)"
   ]
  },
  {
   "cell_type": "code",
   "execution_count": 1,
   "metadata": {},
   "outputs": [],
   "source": [
    "import sys\n",
    "import tensorflow as tf\n",
    "import numpy as np\n",
    "import time\n",
    "import matplotlib.pyplot as plt\n",
    "\n",
    "from utilitiesquantumgates import SLM\n",
    "from utilitiesquantumgates import quantumgates\n",
    "from utilitiesquantumgates import quantumgatesinference\n",
    "from utilitiesquantumgates import utilities\n",
    "from tensorboardutilities import tensorboardutilities\n",
    "from datetime import datetime\n",
    "#%% datatypes\n",
    "npdatatype=np.complex64\n",
    "tfdatatype=tf.complex64\n",
    "tfrealdatatype=tf.float32 # to use double switch aboe to complex128"
   ]
  },
  {
   "cell_type": "markdown",
   "metadata": {},
   "source": [
    "## Hyperparameters ##"
   ]
  },
  {
   "cell_type": "code",
   "execution_count": 2,
   "metadata": {},
   "outputs": [],
   "source": [
    "N=3 # reduced dimensions\n",
    "M=40 # embedding dimension"
   ]
  },
  {
   "cell_type": "markdown",
   "metadata": {},
   "source": [
    "## Target gate ##"
   ]
  },
  {
   "cell_type": "code",
   "execution_count": 3,
   "metadata": {},
   "outputs": [
    {
     "name": "stdout",
     "output_type": "stream",
     "text": [
      "+0.0+0.0i +1.0+0.0i +0.0+0.0i \n",
      "+0.0+0.0i +0.0+0.0i +1.0+0.0i \n",
      "+1.0+0.0i +0.0+0.0i +0.0+0.0i \n"
     ]
    }
   ],
   "source": [
    "X_np=quantumgates.Xgate(N,npdatatype)\n",
    "utilities.printonscreennp(X_np)"
   ]
  },
  {
   "cell_type": "markdown",
   "metadata": {},
   "source": [
    "## Random Uniform for the Complex Medium ##"
   ]
  },
  {
   "cell_type": "code",
   "execution_count": 4,
   "metadata": {},
   "outputs": [],
   "source": [
    "U_np=quantumgates.randomU(M,npdatatype)\n",
    "#utilities.printonscreennp(U_np)"
   ]
  },
  {
   "cell_type": "markdown",
   "metadata": {},
   "source": [
    "## Test training for N=3 and M=5 ##"
   ]
  },
  {
   "cell_type": "code",
   "execution_count": 5,
   "metadata": {},
   "outputs": [
    {
     "name": "stdout",
     "output_type": "stream",
     "text": [
      "WARNING:tensorflow:From C:\\Users\\nonli\\Anaconda3\\envs\\tensorflow 1p15\\lib\\site-packages\\tensorflow_core\\python\\ops\\math_grad.py:1424: where (from tensorflow.python.ops.array_ops) is deprecated and will be removed in a future version.\n",
      "Instructions for updating:\n",
      "Use tf.where in 2.0, which has the same broadcast rule as np.where\n",
      "Running with M 40 N 3 ntrain 1 nvalid 1\n",
      "epoch 0\n",
      "cost 9.007667541503906\n",
      "valid cost 9.007667541503906\n",
      "epoch 100\n",
      "cost 1.611088752746582\n",
      "valid cost 1.611088752746582\n",
      "epoch 200\n",
      "cost 0.8146945834159851\n",
      "valid cost 0.8146945834159851\n",
      "epoch 300\n",
      "cost 0.7356824278831482\n",
      "valid cost 0.7356824278831482\n",
      "epoch 400\n",
      "cost 0.41102057695388794\n",
      "valid cost 0.41102057695388794\n",
      "epoch 500\n",
      "cost 0.1303718537092209\n",
      "valid cost 0.1303718537092209\n",
      "epoch 600\n",
      "cost 0.023755263537168503\n",
      "valid cost 0.023755263537168503\n",
      "epoch 700\n",
      "cost 0.005815458949655294\n",
      "valid cost 0.005815458949655294\n",
      "epoch 800\n",
      "cost 0.0005793496966362\n",
      "valid cost 0.0005793496966362\n",
      "epoch 900\n",
      "cost 6.114204006735235e-05\n",
      "valid cost 6.114204006735235e-05\n",
      "Convergence in validation reached at epoch 900\n"
     ]
    }
   ],
   "source": [
    "out=SLM.phaseonly(\n",
    "            X_np,U_np,\n",
    "            verbose=2,\n",
    "            epochs=2000,\n",
    "            display_steps=100)"
   ]
  },
  {
   "cell_type": "markdown",
   "metadata": {},
   "source": [
    "## Test scalig with ##"
   ]
  },
  {
   "cell_type": "markdown",
   "metadata": {},
   "source": [
    "Train for varying M "
   ]
  },
  {
   "cell_type": "markdown",
   "metadata": {},
   "source": [
    "### Parameters ###"
   ]
  },
  {
   "cell_type": "code",
   "execution_count": 6,
   "metadata": {},
   "outputs": [],
   "source": [
    "Mmin=5\n",
    "Mmax=400\n",
    "step=20\n",
    "Ms=list()\n",
    "Nepoch=list()\n",
    "Cost=list()\n",
    "count=0"
   ]
  },
  {
   "cell_type": "markdown",
   "metadata": {},
   "source": [
    "Training loop"
   ]
  },
  {
   "cell_type": "code",
   "execution_count": 7,
   "metadata": {},
   "outputs": [
    {
     "name": "stdout",
     "output_type": "stream",
     "text": [
      "Running with M 5 N 3 ntrain 1 nvalid 1\n",
      "No convergence, maximal epochs reached 1000\n",
      "Running with M 5 cost  0.007784056477248669\n",
      "Running with M 25 N 3 ntrain 1 nvalid 1\n",
      "No convergence, maximal epochs reached 1000\n",
      "Running with M 25 cost  0.0002611222444102168\n",
      "Running with M 45 N 3 ntrain 1 nvalid 1\n",
      "No convergence, maximal epochs reached 1000\n",
      "Running with M 45 cost  0.0007274628733284771\n",
      "Running with M 65 N 3 ntrain 1 nvalid 1\n",
      "Convergence in validation reached at epoch 765\n",
      "Running with M 65 cost  9.139193571172655e-05\n",
      "Running with M 85 N 3 ntrain 1 nvalid 1\n",
      "Convergence in validation reached at epoch 840\n",
      "Running with M 85 cost  8.956656529335305e-05\n",
      "Running with M 105 N 3 ntrain 1 nvalid 1\n",
      "Convergence in validation reached at epoch 880\n",
      "Running with M 105 cost  9.309423330705613e-05\n",
      "Running with M 125 N 3 ntrain 1 nvalid 1\n",
      "Convergence in validation reached at epoch 795\n",
      "Running with M 125 cost  9.247441630577669e-05\n",
      "Running with M 145 N 3 ntrain 1 nvalid 1\n",
      "Convergence in validation reached at epoch 860\n",
      "Running with M 145 cost  9.341083205072209e-05\n",
      "Running with M 165 N 3 ntrain 1 nvalid 1\n",
      "Convergence in validation reached at epoch 910\n",
      "Running with M 165 cost  5.7180197472916916e-05\n",
      "Running with M 185 N 3 ntrain 1 nvalid 1\n",
      "Convergence in validation reached at epoch 770\n",
      "Running with M 185 cost  9.867727203527465e-05\n",
      "Running with M 205 N 3 ntrain 1 nvalid 1\n",
      "Convergence in validation reached at epoch 775\n",
      "Running with M 205 cost  9.209146810462698e-05\n",
      "Running with M 225 N 3 ntrain 1 nvalid 1\n",
      "Convergence in validation reached at epoch 740\n",
      "Running with M 225 cost  9.234016761183739e-05\n",
      "Running with M 245 N 3 ntrain 1 nvalid 1\n",
      "Convergence in validation reached at epoch 745\n",
      "Running with M 245 cost  9.784716530703008e-05\n",
      "Running with M 265 N 3 ntrain 1 nvalid 1\n",
      "Convergence in validation reached at epoch 830\n",
      "Running with M 265 cost  9.798925748327747e-05\n",
      "Running with M 285 N 3 ntrain 1 nvalid 1\n",
      "Convergence in validation reached at epoch 855\n",
      "Running with M 285 cost  9.015476825879887e-05\n",
      "Running with M 305 N 3 ntrain 1 nvalid 1\n",
      "Convergence in validation reached at epoch 740\n",
      "Running with M 305 cost  8.33849044283852e-05\n",
      "Running with M 325 N 3 ntrain 1 nvalid 1\n",
      "Convergence in validation reached at epoch 770\n",
      "Running with M 325 cost  9.6100389782805e-05\n",
      "Running with M 345 N 3 ntrain 1 nvalid 1\n",
      "Convergence in validation reached at epoch 770\n",
      "Running with M 345 cost  7.486656249966472e-05\n",
      "Running with M 365 N 3 ntrain 1 nvalid 1\n",
      "Convergence in validation reached at epoch 820\n",
      "Running with M 365 cost  8.239475573645905e-05\n",
      "Running with M 385 N 3 ntrain 1 nvalid 1\n",
      "Convergence in validation reached at epoch 845\n",
      "Running with M 385 cost  9.451404184801504e-05\n"
     ]
    }
   ],
   "source": [
    "for im in range(Mmin,Mmax+1,step):\n",
    "    Ms.append(im)\n",
    "    U_np=quantumgates.randomU(im,npdatatype)\n",
    "    out=\\\n",
    "    SLM.phaseonly(\n",
    "            X_np,U_np,\n",
    "            verbose=1,\n",
    "            epochs=1000,\n",
    "            display_steps=5)\n",
    "    Nepoch.append(out['epoch'])\n",
    "    Cost.append(out['cost'])\n",
    "    count=count+1\n",
    "    print('Running with M ' +\n",
    "          repr(im)+' cost  '+repr(out['cost']))"
   ]
  },
  {
   "cell_type": "code",
   "execution_count": 8,
   "metadata": {},
   "outputs": [
    {
     "data": {
      "text/plain": [
       "Text(0, 0.5, 'cost function')"
      ]
     },
     "execution_count": 8,
     "metadata": {},
     "output_type": "execute_result"
    },
    {
     "data": {
      "image/png": "[encoded data removed]",
      "text/plain": [
       "<Figure size 432x288 with 1 Axes>"
      ]
     },
     "metadata": {
      "needs_background": "light"
     },
     "output_type": "display_data"
    }
   ],
   "source": [
    "%matplotlib inline\n",
    "plt.figure(1)\n",
    "plt.semilogy(Ms,Cost)\n",
    "plt.xlabel('embedding dimension M')\n",
    "plt.ylabel('cost function')"
   ]
  },
  {
   "cell_type": "code",
   "execution_count": 9,
   "metadata": {},
   "outputs": [
    {
     "data": {
      "text/plain": [
       "<Figure size 432x288 with 0 Axes>"
      ]
     },
     "metadata": {},
     "output_type": "display_data"
    }
   ],
   "source": [
    "plt.savefig('figurescaling.eps', dpi=600, facecolor='w', edgecolor='w',\n",
    "        orientation='portrait', papertype=None, format='eps',\n",
    "        transparent=False, bbox_inches=None, pad_inches=0.1)"
   ]
  }
 ],
 "metadata": {
  "kernelspec": {
   "display_name": "Python 3",
   "language": "python",
   "name": "python3"
  },
  "language_info": {
   "codemirror_mode": {
    "name": "ipython",
    "version": 3
   },
   "file_extension": ".py",
   "mimetype": "text/x-python",
   "name": "python",
   "nbconvert_exporter": "python",
   "pygments_lexer": "ipython3",
   "version": "3.6.10"
  }
 },
 "nbformat": 4,
 "nbformat_minor": 4
}
