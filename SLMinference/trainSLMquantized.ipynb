{
 "cells": [
  {
   "cell_type": "markdown",
   "metadata": {},
   "source": [
    "# Train SLM with quantized levels"
   ]
  },
  {
   "cell_type": "markdown",
   "metadata": {},
   "source": [
    "#### Study of single qdit inference gate\n",
    "By Claudio\n",
    "Initial version 31 Agoust 2019, single input training with clipping of real and imaginary part\n",
    "\n",
    "Figure 3 of [arXiv:1905.05264](https://arxiv.org/abs/1905.05264)\n",
    "\n",
    "Version 4 april 2020\n",
    "\n",
    "Need tensorflow 1.15 \n",
    "`pip install tensorflow==1.15`"
   ]
  },
  {
   "cell_type": "code",
   "execution_count": 1,
   "metadata": {},
   "outputs": [],
   "source": [
    "import sys\n",
    "import tensorflow as tf\n",
    "import numpy as np\n",
    "import time\n",
    "import matplotlib.pyplot as plt\n",
    "from utilitiesquantumgates import SLM\n",
    "from utilitiesquantumgates import quantumgates \n",
    "from utilitiesquantumgates import quantumgatesinference \n",
    "from utilitiesquantumgates import utilities\n",
    "from tensorboardutilities import tensorboardutilities\n",
    "from datetime import datetime\n",
    "# datatypes\n",
    "npdatatype=np.complex64\n",
    "tfdatatype=tf.complex64\n",
    "tfrealdatatype=tf.float32 # to use double switch aboe to complex128\n"
   ]
  },
  {
   "cell_type": "markdown",
   "metadata": {},
   "source": [
    "Dimensions"
   ]
  },
  {
   "cell_type": "code",
   "execution_count": 2,
   "metadata": {},
   "outputs": [],
   "source": [
    "N=3 # reduced dimensions\n",
    "M=10 # embedding dimension"
   ]
  },
  {
   "cell_type": "markdown",
   "metadata": {},
   "source": [
    "Target gate"
   ]
  },
  {
   "cell_type": "code",
   "execution_count": 3,
   "metadata": {},
   "outputs": [
    {
     "name": "stdout",
     "output_type": "stream",
     "text": [
      "+0.0+0.0i +1.0+0.0i +0.0+0.0i \n",
      "+0.0+0.0i +0.0+0.0i +1.0+0.0i \n",
      "+1.0+0.0i +0.0+0.0i +0.0+0.0i \n"
     ]
    }
   ],
   "source": [
    "X_np=quantumgates.Xgate(N,npdatatype)\n",
    "utilities.printonscreennp(X_np)    "
   ]
  },
  {
   "cell_type": "markdown",
   "metadata": {},
   "source": [
    "Generate the random unitary matrix"
   ]
  },
  {
   "cell_type": "code",
   "execution_count": 4,
   "metadata": {},
   "outputs": [
    {
     "name": "stdout",
     "output_type": "stream",
     "text": [
      "-0.1-0.1i -0.2-0.1i -0.4-0.2i -0.1+0.1i -0.2+0.4i +0.4-0.4i +0.1-0.1i -0.1+0.3i -0.1+0.2i +0.1+0.1i \n",
      "-0.2-0.1i -0.1-0.3i +0.1-0.2i +0.2+0.0i +0.3-0.1i -0.1+0.4i +0.1-0.2i -0.1+0.4i +0.2+0.3i -0.0-0.3i \n",
      "-0.3-0.0i +0.4+0.0i -0.2-0.1i -0.0+0.3i -0.1+0.3i +0.0+0.3i -0.2-0.2i +0.4-0.3i -0.0+0.3i -0.1+0.2i \n",
      "-0.3-0.1i -0.3-0.3i +0.3-0.2i -0.1-0.1i +0.3+0.1i +0.1-0.2i +0.3-0.2i +0.3-0.3i -0.2-0.1i -0.0+0.2i \n",
      "-0.3-0.2i +0.1+0.0i -0.1-0.2i +0.3+0.3i -0.3-0.3i -0.1-0.2i +0.2+0.1i +0.0-0.2i +0.2-0.3i +0.2-0.3i \n",
      "-0.2-0.3i -0.1+0.5i +0.1+0.1i -0.0-0.2i +0.2+0.3i +0.2+0.3i +0.1-0.2i -0.2-0.0i +0.1-0.2i +0.4-0.0i \n",
      "-0.3-0.3i +0.0+0.2i +0.3-0.1i +0.4-0.4i -0.2-0.0i +0.0-0.2i -0.4+0.2i -0.1+0.0i -0.0+0.3i -0.1+0.2i \n",
      "-0.2-0.3i -0.1-0.1i -0.2+0.4i -0.4-0.2i -0.1-0.2i +0.1+0.0i +0.1+0.1i -0.2-0.2i +0.1+0.3i -0.3-0.3i \n",
      "-0.2-0.3i +0.2-0.2i -0.3+0.1i -0.1-0.0i +0.2-0.3i -0.2+0.0i -0.1-0.1i -0.2+0.2i -0.1-0.4i +0.0+0.5i \n",
      "-0.2-0.1i -0.3+0.1i -0.1-0.2i -0.1+0.3i +0.2+0.2i -0.1+0.1i -0.3+0.5i -0.1-0.0i -0.2-0.3i -0.3-0.1i \n"
     ]
    }
   ],
   "source": [
    "U_np=quantumgates.randomU(M,npdatatype)  \n",
    "utilities.printonscreennp(U_np)    "
   ]
  },
  {
   "cell_type": "markdown",
   "metadata": {},
   "source": [
    "## Train amplitude only with -1.0 and 1.0 and zero image"
   ]
  },
  {
   "cell_type": "code",
   "execution_count": 5,
   "metadata": {},
   "outputs": [
    {
     "name": "stdout",
     "output_type": "stream",
     "text": [
      "Random seed = 1586015251\n",
      "WARNING:tensorflow:From c:\\Users\\nonli\\Dropbox\\PythonClaudio\\quomplex\\codeOpEx2020TF1\\SLMinference\\utilitiesquantumgates.py:1036: The name tf.summary.scalar is deprecated. Please use tf.compat.v1.summary.scalar instead.\n",
      "\n",
      "WARNING:tensorflow:From c:\\Users\\nonli\\Dropbox\\PythonClaudio\\quomplex\\codeOpEx2020TF1\\SLMinference\\utilitiesquantumgates.py:1043: The name tf.summary.histogram is deprecated. Please use tf.compat.v1.summary.histogram instead.\n",
      "\n",
      "WARNING:tensorflow:From C:\\Users\\nonli\\Anaconda3\\envs\\tensorflow 1p15\\lib\\site-packages\\tensorflow_core\\python\\ops\\math_grad.py:1424: where (from tensorflow.python.ops.array_ops) is deprecated and will be removed in a future version.\n",
      "Instructions for updating:\n",
      "Use tf.where in 2.0, which has the same broadcast rule as np.where\n",
      "Running with M 10 N 3 ntrain 1 nvalid 1\n",
      "epoch 0\n",
      "cost 2.7460594177246094\n",
      "valid cost 2.7460594177246094\n",
      "epoch 50\n",
      "cost 0.43214064836502075\n",
      "valid cost 0.43214064836502075\n",
      "epoch 100\n",
      "cost 0.26441946625709534\n",
      "valid cost 0.26441946625709534\n",
      "epoch 150\n",
      "cost 0.34430378675460815\n",
      "valid cost 0.34430378675460815\n",
      "epoch 200\n",
      "cost 0.26441946625709534\n",
      "valid cost 0.26441946625709534\n",
      "epoch 250\n",
      "cost 0.35293567180633545\n",
      "valid cost 0.35293567180633545\n",
      "epoch 300\n",
      "cost 0.26441946625709534\n",
      "valid cost 0.26441946625709534\n",
      "epoch 350\n",
      "cost 0.35938385128974915\n",
      "valid cost 0.35938385128974915\n",
      "epoch 400\n",
      "cost 0.2792971432209015\n",
      "valid cost 0.2792971432209015\n",
      "epoch 450\n",
      "cost 0.4121170938014984\n",
      "valid cost 0.4121170938014984\n",
      "epoch 500\n",
      "cost 0.4253048896789551\n",
      "valid cost 0.4253048896789551\n",
      "epoch 550\n",
      "cost 0.30000001192092896\n",
      "valid cost 0.30000001192092896\n",
      "epoch 600\n",
      "cost 0.3236009180545807\n",
      "valid cost 0.3236009180545807\n",
      "epoch 650\n",
      "cost 0.285122275352478\n",
      "valid cost 0.285122275352478\n",
      "epoch 700\n",
      "cost 0.26441946625709534\n",
      "valid cost 0.26441946625709534\n",
      "epoch 750\n",
      "cost 0.3535586893558502\n",
      "valid cost 0.3535586893558502\n",
      "epoch 800\n",
      "cost 0.3331760764122009\n",
      "valid cost 0.3331760764122009\n",
      "epoch 850\n",
      "cost 0.2792971432209015\n",
      "valid cost 0.2792971432209015\n",
      "epoch 900\n",
      "cost 0.40629202127456665\n",
      "valid cost 0.40629202127456665\n",
      "epoch 950\n",
      "cost 0.3591814637184143\n",
      "valid cost 0.3591814637184143\n",
      "No convergence, maximal epochs reached 1000\n"
     ]
    }
   ],
   "source": [
    "out=\\\n",
    "    SLM.complexqtzd(\n",
    "            X_np,U_np,\n",
    "            verbose=2,\n",
    "            epochs=1000,\n",
    "            display_steps=50,\n",
    "            realMAX=1.0,\n",
    "            realMIN=-1.0,\n",
    "            imagMAX=0.0,\n",
    "            imagMIN=0.0,\n",
    "            nbits=1\n",
    "            )  "
   ]
  },
  {
   "cell_type": "markdown",
   "metadata": {},
   "source": [
    "## Scaling with M at 1 bit"
   ]
  },
  {
   "cell_type": "code",
   "execution_count": 6,
   "metadata": {},
   "outputs": [
    {
     "name": "stdout",
     "output_type": "stream",
     "text": [
      "Running with M 5 N 3 ntrain 1 nvalid 1\n",
      "No convergence, maximal epochs reached 1000\n",
      "Running with M 5 cost  0.5798710584640503\n",
      "Running with M 10 N 3 ntrain 1 nvalid 1\n",
      "No convergence, maximal epochs reached 1000\n",
      "Running with M 10 cost  0.28396692872047424\n",
      "Running with M 15 N 3 ntrain 1 nvalid 1\n",
      "No convergence, maximal epochs reached 1000\n",
      "Running with M 15 cost  0.37478217482566833\n",
      "Running with M 20 N 3 ntrain 1 nvalid 1\n",
      "No convergence, maximal epochs reached 1000\n",
      "Running with M 20 cost  0.34106820821762085\n",
      "Running with M 25 N 3 ntrain 1 nvalid 1\n",
      "No convergence, maximal epochs reached 1000\n",
      "Running with M 25 cost  0.20307935774326324\n",
      "Running with M 30 N 3 ntrain 1 nvalid 1\n",
      "No convergence, maximal epochs reached 1000\n",
      "Running with M 30 cost  0.17323991656303406\n",
      "Running with M 35 N 3 ntrain 1 nvalid 1\n",
      "No convergence, maximal epochs reached 1000\n",
      "Running with M 35 cost  0.15003417432308197\n",
      "Running with M 40 N 3 ntrain 1 nvalid 1\n",
      "No convergence, maximal epochs reached 1000\n",
      "Running with M 40 cost  0.21239617466926575\n",
      "Running with M 45 N 3 ntrain 1 nvalid 1\n",
      "No convergence, maximal epochs reached 1000\n",
      "Running with M 45 cost  0.20863187313079834\n",
      "Running with M 50 N 3 ntrain 1 nvalid 1\n",
      "No convergence, maximal epochs reached 1000\n",
      "Running with M 50 cost  0.17036846280097961\n",
      "Running with M 55 N 3 ntrain 1 nvalid 1\n",
      "No convergence, maximal epochs reached 1000\n",
      "Running with M 55 cost  0.1357080638408661\n",
      "Running with M 60 N 3 ntrain 1 nvalid 1\n",
      "No convergence, maximal epochs reached 1000\n",
      "Running with M 60 cost  0.1239314004778862\n",
      "Running with M 65 N 3 ntrain 1 nvalid 1\n",
      "No convergence, maximal epochs reached 1000\n",
      "Running with M 65 cost  0.13466094434261322\n",
      "Running with M 70 N 3 ntrain 1 nvalid 1\n",
      "No convergence, maximal epochs reached 1000\n",
      "Running with M 70 cost  0.11122357100248337\n",
      "Running with M 75 N 3 ntrain 1 nvalid 1\n",
      "No convergence, maximal epochs reached 1000\n",
      "Running with M 75 cost  0.10078839957714081\n",
      "Running with M 80 N 3 ntrain 1 nvalid 1\n",
      "No convergence, maximal epochs reached 1000\n",
      "Running with M 80 cost  0.08453730493783951\n",
      "Running with M 85 N 3 ntrain 1 nvalid 1\n",
      "No convergence, maximal epochs reached 1000\n",
      "Running with M 85 cost  0.10879813134670258\n",
      "Running with M 90 N 3 ntrain 1 nvalid 1\n",
      "No convergence, maximal epochs reached 1000\n",
      "Running with M 90 cost  0.08444799482822418\n",
      "Running with M 95 N 3 ntrain 1 nvalid 1\n",
      "No convergence, maximal epochs reached 1000\n",
      "Running with M 95 cost  0.10968604683876038\n",
      "Running with M 100 N 3 ntrain 1 nvalid 1\n",
      "No convergence, maximal epochs reached 1000\n",
      "Running with M 100 cost  0.14546814560890198\n"
     ]
    }
   ],
   "source": [
    "Mmin=5\n",
    "Mmax=100\n",
    "step=5\n",
    "Ms=list()\n",
    "Nepoch=list()\n",
    "Cost1=list()\n",
    "count=0\n",
    "for im in range(Mmin,Mmax+1,step):\n",
    "    Ms.append(im)\n",
    "    U_np=quantumgates.randomU(im,npdatatype)  \n",
    "    out=\\\n",
    "    SLM.complexqtzd(\n",
    "            X_np,U_np,\n",
    "            verbose=1,\n",
    "            epochs=1000,\n",
    "            display_steps=50,\n",
    "            realMAX=1.0,\n",
    "            realMIN=-1.0,\n",
    "            imagMAX=0.0,\n",
    "            imagMIN=0.0,\n",
    "            nbits=1\n",
    "            )                                                                 \n",
    "    Nepoch.append(out['epoch'])\n",
    "    Cost1.append(out['cost'])\n",
    "    count=count+1\n",
    "    print('Running with M ' + \n",
    "          repr(im)+' cost  '+repr(out['cost']))"
   ]
  },
  {
   "cell_type": "markdown",
   "metadata": {},
   "source": [
    "## Scaling with M at 8 bit"
   ]
  },
  {
   "cell_type": "code",
   "execution_count": 7,
   "metadata": {},
   "outputs": [
    {
     "name": "stdout",
     "output_type": "stream",
     "text": [
      "Running with M 5 N 3 ntrain 1 nvalid 1\n",
      "No convergence, maximal epochs reached 1000\n",
      "Running with M 5 cost  0.27493923902511597\n",
      "Running with M 10 N 3 ntrain 1 nvalid 1\n",
      "No convergence, maximal epochs reached 1000\n",
      "Running with M 10 cost  0.12325720489025116\n",
      "Running with M 15 N 3 ntrain 1 nvalid 1\n",
      "No convergence, maximal epochs reached 1000\n",
      "Running with M 15 cost  0.09050745517015457\n",
      "Running with M 20 N 3 ntrain 1 nvalid 1\n",
      "No convergence, maximal epochs reached 1000\n",
      "Running with M 20 cost  0.07686649262905121\n",
      "Running with M 25 N 3 ntrain 1 nvalid 1\n",
      "No convergence, maximal epochs reached 1000\n",
      "Running with M 25 cost  0.0733209028840065\n",
      "Running with M 30 N 3 ntrain 1 nvalid 1\n",
      "No convergence, maximal epochs reached 1000\n",
      "Running with M 30 cost  0.0524880550801754\n",
      "Running with M 35 N 3 ntrain 1 nvalid 1\n",
      "No convergence, maximal epochs reached 1000\n",
      "Running with M 35 cost  0.03707529231905937\n",
      "Running with M 40 N 3 ntrain 1 nvalid 1\n",
      "No convergence, maximal epochs reached 1000\n",
      "Running with M 40 cost  0.038971565663814545\n",
      "Running with M 45 N 3 ntrain 1 nvalid 1\n",
      "No convergence, maximal epochs reached 1000\n",
      "Running with M 45 cost  0.03286931291222572\n",
      "Running with M 50 N 3 ntrain 1 nvalid 1\n",
      "No convergence, maximal epochs reached 1000\n",
      "Running with M 50 cost  0.026440110057592392\n",
      "Running with M 55 N 3 ntrain 1 nvalid 1\n",
      "No convergence, maximal epochs reached 1000\n",
      "Running with M 55 cost  0.03062555380165577\n",
      "Running with M 60 N 3 ntrain 1 nvalid 1\n",
      "No convergence, maximal epochs reached 1000\n",
      "Running with M 60 cost  0.02936241216957569\n",
      "Running with M 65 N 3 ntrain 1 nvalid 1\n",
      "No convergence, maximal epochs reached 1000\n",
      "Running with M 65 cost  0.02072690986096859\n",
      "Running with M 70 N 3 ntrain 1 nvalid 1\n",
      "No convergence, maximal epochs reached 1000\n",
      "Running with M 70 cost  0.02077517658472061\n",
      "Running with M 75 N 3 ntrain 1 nvalid 1\n",
      "No convergence, maximal epochs reached 1000\n",
      "Running with M 75 cost  0.019514070823788643\n",
      "Running with M 80 N 3 ntrain 1 nvalid 1\n",
      "No convergence, maximal epochs reached 1000\n",
      "Running with M 80 cost  0.016720900312066078\n",
      "Running with M 85 N 3 ntrain 1 nvalid 1\n",
      "No convergence, maximal epochs reached 1000\n",
      "Running with M 85 cost  0.019799349829554558\n",
      "Running with M 90 N 3 ntrain 1 nvalid 1\n",
      "No convergence, maximal epochs reached 1000\n",
      "Running with M 90 cost  0.02081325463950634\n",
      "Running with M 95 N 3 ntrain 1 nvalid 1\n",
      "No convergence, maximal epochs reached 1000\n",
      "Running with M 95 cost  0.013300233520567417\n",
      "Running with M 100 N 3 ntrain 1 nvalid 1\n",
      "No convergence, maximal epochs reached 1000\n",
      "Running with M 100 cost  0.015459546819329262\n"
     ]
    }
   ],
   "source": [
    "Ms=list()\n",
    "Nepoch=list()\n",
    "Cost8=list()\n",
    "count=0\n",
    "for im in range(Mmin,Mmax+1,step):\n",
    "    Ms.append(im)\n",
    "    U_np=quantumgates.randomU(im,npdatatype)  \n",
    "    out=\\\n",
    "    SLM.complexqtzd(\n",
    "            X_np,U_np,\n",
    "            verbose=1,\n",
    "            epochs=1000,\n",
    "            display_steps=50,\n",
    "            realMAX=1.0,\n",
    "            realMIN=-1.0,\n",
    "            imagMAX=0.0,\n",
    "            imagMIN=0.0,\n",
    "            nbits=8\n",
    "            )                                                                 \n",
    "    Nepoch.append(out['epoch'])\n",
    "    Cost8.append(out['cost'])\n",
    "    count=count+1\n",
    "    print('Running with M ' + \n",
    "          repr(im)+' cost  '+repr(out['cost']))"
   ]
  },
  {
   "cell_type": "markdown",
   "metadata": {},
   "source": [
    "## Scaling with M without quantization"
   ]
  },
  {
   "cell_type": "code",
   "execution_count": 8,
   "metadata": {},
   "outputs": [
    {
     "name": "stdout",
     "output_type": "stream",
     "text": [
      "WARNING:tensorflow:From c:\\Users\\nonli\\Dropbox\\PythonClaudio\\quomplex\\codeOpEx2020TF1\\SLMinference\\utilitiesquantumgates.py:1292: The name tf.random_uniform is deprecated. Please use tf.random.uniform instead.\n",
      "\n",
      "WARNING:tensorflow:From c:\\Users\\nonli\\Dropbox\\PythonClaudio\\quomplex\\codeOpEx2020TF1\\SLMinference\\utilitiesquantumgates.py:1296: The name tf.get_variable is deprecated. Please use tf.compat.v1.get_variable instead.\n",
      "\n",
      "WARNING:tensorflow:From c:\\Users\\nonli\\Dropbox\\PythonClaudio\\quomplex\\codeOpEx2020TF1\\SLMinference\\utilitiesquantumgates.py:1304: The name tf.placeholder is deprecated. Please use tf.compat.v1.placeholder instead.\n",
      "\n",
      "Running with M 5 N 3 ntrain 1 nvalid 1\n",
      "WARNING:tensorflow:From c:\\Users\\nonli\\Dropbox\\PythonClaudio\\quomplex\\codeOpEx2020TF1\\SLMinference\\utilitiesquantumgates.py:1355: The name tf.summary.FileWriter is deprecated. Please use tf.compat.v1.summary.FileWriter instead.\n",
      "\n",
      "WARNING:tensorflow:From c:\\Users\\nonli\\Dropbox\\PythonClaudio\\quomplex\\codeOpEx2020TF1\\SLMinference\\utilitiesquantumgates.py:1356: The name tf.summary.merge_all is deprecated. Please use tf.compat.v1.summary.merge_all instead.\n",
      "\n",
      "WARNING:tensorflow:From c:\\Users\\nonli\\Dropbox\\PythonClaudio\\quomplex\\codeOpEx2020TF1\\SLMinference\\utilitiesquantumgates.py:1360: The name tf.Session is deprecated. Please use tf.compat.v1.Session instead.\n",
      "\n",
      "WARNING:tensorflow:From c:\\Users\\nonli\\Dropbox\\PythonClaudio\\quomplex\\codeOpEx2020TF1\\SLMinference\\utilitiesquantumgates.py:1361: The name tf.global_variables_initializer is deprecated. Please use tf.compat.v1.global_variables_initializer instead.\n",
      "\n",
      "No convergence, maximal epochs reached 1000\n",
      "Running with M 5 cost  0.3291328549385071\n",
      "Running with M 10 N 3 ntrain 1 nvalid 1\n",
      "No convergence, maximal epochs reached 1000\n",
      "Running with M 10 cost  0.12193205207586288\n",
      "Running with M 15 N 3 ntrain 1 nvalid 1\n",
      "No convergence, maximal epochs reached 1000\n",
      "Running with M 15 cost  0.08755034953355789\n",
      "Running with M 20 N 3 ntrain 1 nvalid 1\n",
      "No convergence, maximal epochs reached 1000\n",
      "Running with M 20 cost  0.055066920816898346\n",
      "Running with M 25 N 3 ntrain 1 nvalid 1\n",
      "No convergence, maximal epochs reached 1000\n",
      "Running with M 25 cost  0.060176800936460495\n",
      "Running with M 30 N 3 ntrain 1 nvalid 1\n",
      "No convergence, maximal epochs reached 1000\n",
      "Running with M 30 cost  0.058614518493413925\n",
      "Running with M 35 N 3 ntrain 1 nvalid 1\n",
      "No convergence, maximal epochs reached 1000\n",
      "Running with M 35 cost  0.04628570005297661\n",
      "Running with M 40 N 3 ntrain 1 nvalid 1\n",
      "No convergence, maximal epochs reached 1000\n",
      "Running with M 40 cost  0.048331327736377716\n",
      "Running with M 45 N 3 ntrain 1 nvalid 1\n",
      "No convergence, maximal epochs reached 1000\n",
      "Running with M 45 cost  0.023301657289266586\n",
      "Running with M 50 N 3 ntrain 1 nvalid 1\n",
      "No convergence, maximal epochs reached 1000\n",
      "Running with M 50 cost  0.03137769550085068\n",
      "Running with M 55 N 3 ntrain 1 nvalid 1\n",
      "No convergence, maximal epochs reached 1000\n",
      "Running with M 55 cost  0.025386106222867966\n",
      "Running with M 60 N 3 ntrain 1 nvalid 1\n",
      "No convergence, maximal epochs reached 1000\n",
      "Running with M 60 cost  0.029102660715579987\n",
      "Running with M 65 N 3 ntrain 1 nvalid 1\n",
      "No convergence, maximal epochs reached 1000\n",
      "Running with M 65 cost  0.024077704176306725\n",
      "Running with M 70 N 3 ntrain 1 nvalid 1\n",
      "No convergence, maximal epochs reached 1000\n",
      "Running with M 70 cost  0.021679608151316643\n",
      "Running with M 75 N 3 ntrain 1 nvalid 1\n",
      "No convergence, maximal epochs reached 1000\n",
      "Running with M 75 cost  0.0197624322026968\n",
      "Running with M 80 N 3 ntrain 1 nvalid 1\n",
      "No convergence, maximal epochs reached 1000\n",
      "Running with M 80 cost  0.015815623104572296\n",
      "Running with M 85 N 3 ntrain 1 nvalid 1\n",
      "No convergence, maximal epochs reached 1000\n",
      "Running with M 85 cost  0.01858188398182392\n",
      "Running with M 90 N 3 ntrain 1 nvalid 1\n",
      "No convergence, maximal epochs reached 1000\n",
      "Running with M 90 cost  0.01933848112821579\n",
      "Running with M 95 N 3 ntrain 1 nvalid 1\n",
      "No convergence, maximal epochs reached 1000\n",
      "Running with M 95 cost  0.015025418251752853\n",
      "Running with M 100 N 3 ntrain 1 nvalid 1\n",
      "No convergence, maximal epochs reached 1000\n",
      "Running with M 100 cost  0.013342734426259995\n"
     ]
    }
   ],
   "source": [
    "Ms=list()\n",
    "Nepoch=list()\n",
    "Cost=list()\n",
    "count=0\n",
    "for im in range(Mmin,Mmax+1,step):\n",
    "    Ms.append(im)\n",
    "    U_np=quantumgates.randomU(im,npdatatype)  \n",
    "    out=\\\n",
    "    SLM.complex(\n",
    "            X_np,U_np,\n",
    "            verbose=1,\n",
    "            epochs=1000,\n",
    "            display_steps=50,\n",
    "            realMAX=1.0,\n",
    "            realMIN=-1.0,\n",
    "            imagMAX=0.0,\n",
    "            imagMIN=0.0\n",
    "            )                                                                 \n",
    "    Nepoch.append(out['epoch'])\n",
    "    Cost.append(out['cost'])\n",
    "    count=count+1\n",
    "    print('Running with M ' + \n",
    "          repr(im)+' cost  '+repr(out['cost']))"
   ]
  },
  {
   "cell_type": "markdown",
   "metadata": {},
   "source": [
    "## Plotting"
   ]
  },
  {
   "cell_type": "code",
   "execution_count": 9,
   "metadata": {},
   "outputs": [],
   "source": [
    "%matplotlib inline"
   ]
  },
  {
   "cell_type": "code",
   "execution_count": 15,
   "metadata": {},
   "outputs": [
    {
     "data": {
      "text/plain": [
       "Text(0, 0.5, 'Cost function')"
      ]
     },
     "execution_count": 15,
     "metadata": {},
     "output_type": "execute_result"
    },
    {
     "data": {
      "image/png": "[encoded data removed]",
      "text/plain": [
       "<Figure size 432x288 with 1 Axes>"
      ]
     },
     "metadata": {
      "needs_background": "light"
     },
     "output_type": "display_data"
    }
   ],
   "source": [
    "plt.figure(1)\n",
    "#plt.subplot(311)\n",
    "plt.plot(Ms,Cost1)\n",
    "plt.plot(Ms,Cost8)\n",
    "plt.plot(Ms,Cost)\n",
    "plt.xlabel('Embedding dimension M')\n",
    "plt.ylabel('Cost function')"
   ]
  },
  {
   "cell_type": "markdown",
   "metadata": {},
   "source": [
    "Save figure as eps"
   ]
  },
  {
   "cell_type": "code",
   "execution_count": 16,
   "metadata": {},
   "outputs": [
    {
     "data": {
      "text/plain": [
       "<Figure size 432x288 with 0 Axes>"
      ]
     },
     "metadata": {},
     "output_type": "display_data"
    }
   ],
   "source": [
    "plt.savefig('figurescaling2.eps', dpi=600, facecolor='w', edgecolor='w',\n",
    "        orientation='portrait', papertype=None, format='eps',\n",
    "        transparent=False, bbox_inches=None, pad_inches=0.1,\n",
    "        metadata=None)"
   ]
  },
  {
   "cell_type": "code",
   "execution_count": 17,
   "metadata": {},
   "outputs": [
    {
     "name": "stdout",
     "output_type": "stream",
     "text": [
      "[999, 999, 999, 999, 999, 999, 999, 999, 999, 999, 999, 999, 999, 999, 999, 999, 999, 999, 999, 999]\n"
     ]
    }
   ],
   "source": [
    "print(Nepoch)"
   ]
  },
  {
   "cell_type": "code",
   "execution_count": 18,
   "metadata": {},
   "outputs": [
    {
     "name": "stdout",
     "output_type": "stream",
     "text": [
      "[5, 10, 15, 20, 25, 30, 35, 40, 45, 50, 55, 60, 65, 70, 75, 80, 85, 90, 95, 100]\n"
     ]
    }
   ],
   "source": [
    "print(Ms)"
   ]
  },
  {
   "cell_type": "code",
   "execution_count": 14,
   "metadata": {},
   "outputs": [],
   "source": [
    "#print(out)"
   ]
  }
 ],
 "metadata": {
  "kernelspec": {
   "display_name": "Python 3",
   "language": "python",
   "name": "python3"
  },
  "language_info": {
   "codemirror_mode": {
    "name": "ipython",
    "version": 3
   },
   "file_extension": ".py",
   "mimetype": "text/x-python",
   "name": "python",
   "nbconvert_exporter": "python",
   "pygments_lexer": "ipython3",
   "version": "3.6.10"
  }
 },
 "nbformat": 4,
 "nbformat_minor": 4
}
