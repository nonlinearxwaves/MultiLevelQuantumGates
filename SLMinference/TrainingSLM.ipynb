{
 "cells": [
  {
   "cell_type": "markdown",
   "metadata": {},
   "source": [
    "# Study the scaling M of a single qtrit gate by a SLM phase only with dimension N"
   ]
  },
  {
   "cell_type": "markdown",
   "metadata": {},
   "source": [
    "#### Study of single qdit inference gate\n",
    "By Claudio\n",
    "Initial version 31 Agoust 2019, single input training with clipping of real and imaginary part\n",
    "\n",
    "Figure 3 of [arXiv:1905.05264](https://arxiv.org/abs/1905.05264)\n",
    "\n",
    "Version 4 april 2020\n",
    "\n",
    "Need tensorflow 1.15 \n",
    "`pip install tensorflow==1.15`\n"
   ]
  },
  {
   "cell_type": "code",
   "execution_count": 1,
   "metadata": {},
   "outputs": [],
   "source": [
    "import sys\n",
    "import tensorflow as tf\n",
    "import numpy as np\n",
    "import time\n",
    "import matplotlib.pyplot as plt"
   ]
  },
  {
   "cell_type": "code",
   "execution_count": 2,
   "metadata": {},
   "outputs": [],
   "source": [
    "from utilitiesquantumgates import quantumgates \n",
    "from utilitiesquantumgates import quantumgatesinference \n",
    "from utilitiesquantumgates import SLM\n",
    "from utilitiesquantumgates import utilities\n",
    "from tensorboardutilities import tensorboardutilities\n",
    "from datetime import datetime\n",
    "#%% datatypes\n",
    "npdatatype=np.complex64\n",
    "tfdatatype=tf.complex64\n",
    "tfrealdatatype=tf.float32 # to use double switch aboe to complex128"
   ]
  },
  {
   "cell_type": "code",
   "execution_count": 3,
   "metadata": {},
   "outputs": [],
   "source": [
    "N=3 # reduced dimensions\n",
    "M=5 # embedding dimension"
   ]
  },
  {
   "cell_type": "code",
   "execution_count": 4,
   "metadata": {},
   "outputs": [],
   "source": [
    "X_np=quantumgates.Xgate(N,npdatatype)"
   ]
  },
  {
   "cell_type": "code",
   "execution_count": 5,
   "metadata": {},
   "outputs": [
    {
     "name": "stdout",
     "output_type": "stream",
     "text": [
      "+0.0+0.0i +1.0+0.0i +0.0+0.0i \n",
      "+0.0+0.0i +0.0+0.0i +1.0+0.0i \n",
      "+1.0+0.0i +0.0+0.0i +0.0+0.0i \n"
     ]
    }
   ],
   "source": [
    "# print(\"Single qdit gate X\")\n",
    "utilities.printonscreennp(X_np)    \n",
    "        "
   ]
  },
  {
   "cell_type": "code",
   "execution_count": 6,
   "metadata": {},
   "outputs": [
    {
     "name": "stdout",
     "output_type": "stream",
     "text": [
      "-0.3-0.1i +0.3+0.4i -0.5-0.1i +0.3+0.3i +0.3+0.3i \n",
      "-0.4-0.3i -0.2-0.2i -0.4-0.4i -0.1-0.6i -0.1-0.2i \n",
      "-0.2-0.5i +0.2-0.2i -0.0+0.0i -0.4+0.5i +0.2-0.5i \n",
      "-0.3-0.4i -0.5+0.0i +0.3+0.4i +0.1-0.1i +0.4+0.3i \n",
      "-0.3-0.3i +0.5+0.2i +0.3+0.2i -0.1-0.3i -0.5+0.2i \n"
     ]
    }
   ],
   "source": [
    "# Generate the random unitary matrix\n",
    "U_np=quantumgates.randomU(M,npdatatype)  \n",
    "utilities.printonscreennp(U_np)    \n"
   ]
  },
  {
   "cell_type": "markdown",
   "metadata": {},
   "source": [
    "# Test training for N=3 and M=5"
   ]
  },
  {
   "cell_type": "code",
   "execution_count": 7,
   "metadata": {},
   "outputs": [
    {
     "name": "stdout",
     "output_type": "stream",
     "text": [
      "Random seed = 1586014642\n",
      "Tensor(\"Const:0\", shape=(5, 5), dtype=complex64)\n",
      "WARNING:tensorflow:From C:\\Users\\nonli\\Anaconda3\\envs\\tensorflow 1p15\\lib\\site-packages\\tensorflow_core\\python\\ops\\math_grad.py:1424: where (from tensorflow.python.ops.array_ops) is deprecated and will be removed in a future version.\n",
      "Instructions for updating:\n",
      "Use tf.where in 2.0, which has the same broadcast rule as np.where\n",
      "Running with M 5 N 3 ntrain 1 nvalid 1\n",
      "epoch 0\n",
      "cost 4.927868366241455\n",
      "valid cost 4.927868366241455\n",
      "epoch 500\n",
      "cost 0.027538854628801346\n",
      "valid cost 0.027538854628801346\n",
      "epoch 1000\n",
      "cost 0.005576704163104296\n",
      "valid cost 0.005576704163104296\n",
      "epoch 1500\n",
      "cost 6.009903154335916e-05\n",
      "valid cost 6.009903154335916e-05\n",
      "Convergence in validation reached at epoch 1500\n",
      "Final Wreal\n",
      "+0.1+0.0i +2.0+0.0i +2.7+0.0i -1.0+0.0i +3.2+0.0i \n",
      "-0.7+0.0i +3.1+0.0i +3.2+0.0i +1.7+0.0i -0.7+0.0i \n",
      "-1.2+0.0i +2.3+0.0i -1.2+0.0i +2.2+0.0i +2.1+0.0i \n",
      "-0.1+0.0i +2.2+0.0i +2.2+0.0i -1.2+0.0i -1.6+0.0i \n",
      "+0.2+0.0i -0.0+0.0i -0.9+0.0i +2.3+0.0i +2.3+0.0i \n",
      "Final Wimag\n",
      "+0.0+0.0i +0.0+0.0i +0.0+0.0i +0.0+0.0i +0.0+0.0i \n",
      "+0.0+0.0i +0.0+0.0i +0.0+0.0i +0.0+0.0i +0.0+0.0i \n",
      "+0.0+0.0i +0.0+0.0i +0.0+0.0i +0.0+0.0i +0.0+0.0i \n",
      "+0.0+0.0i +0.0+0.0i +0.0+0.0i +0.0+0.0i +0.0+0.0i \n",
      "+0.0+0.0i +0.0+0.0i +0.0+0.0i +0.0+0.0i +0.0+0.0i \n",
      "Final Sinput=W\n",
      "+1.0+0.1i -0.4+0.9i -0.9+0.5i +0.6-0.8i -1.0-0.0i \n",
      "+0.8-0.6i -1.0+0.0i -1.0-0.0i -0.2+1.0i +0.8-0.6i \n",
      "+0.4-0.9i -0.7+0.7i +0.4-0.9i -0.6+0.8i -0.5+0.8i \n",
      "+1.0-0.1i -0.6+0.8i -0.6+0.8i +0.4-0.9i -0.0-1.0i \n",
      "+1.0+0.2i +1.0-0.0i +0.6-0.8i -0.7+0.7i -0.7+0.7i \n",
      "Final TV V for unitarity \n",
      "+5.0+0.0i -1.6+0.5i -0.8-0.2i -1.4-0.6i -1.5-0.2i \n",
      "-1.6-0.5i +5.0+0.0i +2.5+0.3i -1.5-0.3i -1.0+2.7i \n",
      "-0.8+0.2i +2.5-0.3i +5.0+0.0i -3.6-0.7i -2.7+1.4i \n",
      "-1.4+0.6i -1.5+0.3i -3.6+0.7i +5.0+0.0i +1.6-2.0i \n",
      "-1.5+0.2i -1.0-2.7i -2.7-1.4i +1.6+2.0i +5.0+0.0i \n",
      "Initial T\n",
      "-0.2+0.9i -0.4+0.7i -0.6+0.9i -0.5+0.7i -0.1+0.7i \n",
      "-0.4-1.8i +0.2-1.9i -0.1-1.7i -0.2-2.0i -0.3-2.0i \n",
      "+0.1-0.8i +0.2-0.7i +0.0-0.9i +0.3-0.3i +0.6-0.3i \n",
      "+0.1+0.3i +0.0+0.1i +0.3-0.1i -0.3+0.1i +0.0+0.2i \n",
      "+0.3-0.4i -0.0+0.1i -0.0+0.2i -0.3-0.1i +0.2-0.2i \n",
      "Final T\n",
      "+0.5+1.0i +0.2-0.5i -0.3+0.1i -0.3-0.2i +1.0-0.5i \n",
      "-1.3-0.8i +1.6+0.0i +0.5+0.8i -0.0-0.2i +0.2+0.2i \n",
      "-0.2-0.7i +0.2-0.9i -0.3-0.4i +0.3+1.1i +1.0+0.9i \n",
      "+0.3+0.0i +0.9+0.1i +1.9+0.1i -1.5-0.5i -1.1+0.7i \n",
      "-0.1-0.9i -0.7+0.1i +0.2+0.4i -1.0+0.2i +0.5-0.1i \n"
     ]
    }
   ],
   "source": [
    "out, Sin, Tfinal, Tinitial=SLM.trainSLMsingleinputquantized(X_np,U_np,verbose=3, epochs=10000,display_steps=500,\n",
    "                                                                     realMIN=-3.15, realMAX=3.15, \n",
    "                                                                    imagMIN=0.0, imagMAX=0.0)                                                                 "
   ]
  },
  {
   "cell_type": "code",
   "execution_count": 8,
   "metadata": {},
   "outputs": [
    {
     "name": "stdout",
     "output_type": "stream",
     "text": [
      "{'accuracy': 0.0001, 'epoch': 1500, 'ntrain': 1, 'nvalid': 1, 'N': 3, 'M': 5, 'X': array([[0.+0.j, 1.+0.j, 0.+0.j],\n",
      "       [0.+0.j, 0.+0.j, 1.+0.j],\n",
      "       [1.+0.j, 0.+0.j, 0.+0.j]], dtype=complex64)}\n"
     ]
    }
   ],
   "source": [
    "print(out)"
   ]
  },
  {
   "cell_type": "code",
   "execution_count": 9,
   "metadata": {},
   "outputs": [],
   "source": [
    "# test the solution\n",
    "#utilities.printonscreennp(Tinitial)"
   ]
  },
  {
   "cell_type": "code",
   "execution_count": 10,
   "metadata": {},
   "outputs": [
    {
     "name": "stdout",
     "output_type": "stream",
     "text": [
      "+1.0+0.1i -0.4+0.9i -0.9+0.5i +0.6-0.8i -1.0-0.0i \n",
      "+0.8-0.6i -1.0+0.0i -1.0-0.0i -0.2+1.0i +0.8-0.6i \n",
      "+0.4-0.9i -0.7+0.7i +0.4-0.9i -0.6+0.8i -0.5+0.8i \n",
      "+1.0-0.1i -0.6+0.8i -0.6+0.8i +0.4-0.9i -0.0-1.0i \n",
      "+1.0+0.2i +1.0-0.0i +0.6-0.8i -0.7+0.7i -0.7+0.7i \n"
     ]
    }
   ],
   "source": [
    "utilities.printonscreennp(Sin)"
   ]
  },
  {
   "cell_type": "code",
   "execution_count": 11,
   "metadata": {},
   "outputs": [
    {
     "name": "stdout",
     "output_type": "stream",
     "text": [
      "+0.5+1.0i +0.2-0.5i -0.3+0.1i -0.3-0.2i +1.0-0.5i \n",
      "-1.3-0.8i +1.6+0.0i +0.5+0.8i -0.0-0.2i +0.2+0.2i \n",
      "-0.2-0.7i +0.2-0.9i -0.3-0.4i +0.3+1.1i +1.0+0.9i \n",
      "+0.3+0.0i +0.9+0.1i +1.9+0.1i -1.5-0.5i -1.1+0.7i \n",
      "-0.1-0.9i -0.7+0.1i +0.2+0.4i -1.0+0.2i +0.5-0.1i \n"
     ]
    }
   ],
   "source": [
    "utilities.printonscreennp(np.matmul(U_np,Sin))"
   ]
  },
  {
   "cell_type": "code",
   "execution_count": 12,
   "metadata": {},
   "outputs": [
    {
     "name": "stdout",
     "output_type": "stream",
     "text": [
      "-0.3-0.1i +0.3+0.4i -0.5-0.1i +0.3+0.3i +0.3+0.3i \n",
      "-0.4-0.3i -0.2-0.2i -0.4-0.4i -0.1-0.6i -0.1-0.2i \n",
      "-0.2-0.5i +0.2-0.2i -0.0+0.0i -0.4+0.5i +0.2-0.5i \n",
      "-0.3-0.4i -0.5+0.0i +0.3+0.4i +0.1-0.1i +0.4+0.3i \n",
      "-0.3-0.3i +0.5+0.2i +0.3+0.2i -0.1-0.3i -0.5+0.2i \n"
     ]
    }
   ],
   "source": [
    "utilities.printonscreennp(U_np)"
   ]
  },
  {
   "cell_type": "code",
   "execution_count": 13,
   "metadata": {},
   "outputs": [
    {
     "name": "stdout",
     "output_type": "stream",
     "text": [
      "+0.5+1.0i +0.2-0.5i -0.3+0.1i -0.3-0.2i +1.0-0.5i \n",
      "-1.3-0.8i +1.6+0.0i +0.5+0.8i -0.0-0.2i +0.2+0.2i \n",
      "-0.2-0.7i +0.2-0.9i -0.3-0.4i +0.3+1.1i +1.0+0.9i \n",
      "+0.3+0.0i +0.9+0.1i +1.9+0.1i -1.5-0.5i -1.1+0.7i \n",
      "-0.1-0.9i -0.7+0.1i +0.2+0.4i -1.0+0.2i +0.5-0.1i \n"
     ]
    }
   ],
   "source": [
    "utilities.printonscreennp(Tfinal)"
   ]
  },
  {
   "cell_type": "markdown",
   "metadata": {},
   "source": [
    "# Test training for N=3 and M=10 "
   ]
  },
  {
   "cell_type": "code",
   "execution_count": 14,
   "metadata": {},
   "outputs": [
    {
     "name": "stdout",
     "output_type": "stream",
     "text": [
      "WARNING:tensorflow:From c:\\Users\\nonli\\Dropbox\\PythonClaudio\\quomplex\\codeOpEx2020TF1\\SLMinference\\utilitiesquantumgates.py:414: The name tf.random_uniform is deprecated. Please use tf.random.uniform instead.\n",
      "\n",
      "Running with M 12 ntrain 100 nvalid 50\n",
      "Convergence in validation reached at epoch 14\n"
     ]
    }
   ],
   "source": [
    "out, _, Tfinal, _=quantumgatesinference.trainrandom(X_np,12,1)"
   ]
  },
  {
   "cell_type": "code",
   "execution_count": 15,
   "metadata": {},
   "outputs": [
    {
     "name": "stdout",
     "output_type": "stream",
     "text": [
      "{'accuracy': 0.0001, 'epoch': 14, 'ntrain': 100, 'nvalid': 50, 'N': 3, 'M': 12, 'X': array([[0.+0.j, 1.+0.j, 0.+0.j],\n",
      "       [0.+0.j, 0.+0.j, 1.+0.j],\n",
      "       [1.+0.j, 0.+0.j, 0.+0.j]], dtype=complex64)}\n"
     ]
    }
   ],
   "source": [
    "print(out)"
   ]
  },
  {
   "cell_type": "code",
   "execution_count": 16,
   "metadata": {},
   "outputs": [
    {
     "name": "stdout",
     "output_type": "stream",
     "text": [
      "14\n"
     ]
    }
   ],
   "source": [
    "Nepoch=out['epoch'];print(Nepoch)"
   ]
  },
  {
   "cell_type": "code",
   "execution_count": 17,
   "metadata": {},
   "outputs": [
    {
     "name": "stdout",
     "output_type": "stream",
     "text": [
      "+0.0-0.0i +1.0-0.0i -0.0-0.0i +0.0-0.0i -0.0-0.0i +0.0+0.0i -0.0-0.0i +0.0+0.0i -0.0-0.0i -0.0+0.0i +0.0+0.0i -0.0+0.0i \n",
      "+0.0-0.0i -0.0-0.0i +1.0+0.0i +0.0-0.0i -0.0+0.0i +0.0+0.0i +0.0-0.0i -0.0-0.0i -0.0-0.0i -0.0+0.0i +0.0-0.0i +0.0+0.0i \n",
      "+1.0-0.0i +0.0+0.0i +0.0+0.0i -0.0-0.0i -0.0+0.0i +0.0-0.0i +0.0+0.0i +0.0-0.0i -0.0-0.0i +0.0-0.0i -0.0+0.0i +0.0-0.0i \n",
      "+0.0+0.0i +0.0-0.0i -0.0+0.0i -0.1-0.1i -0.4-0.1i +0.3+0.2i -0.5-0.2i +0.1+0.1i +0.3-0.1i -0.2-0.4i +0.2-0.1i +0.1+0.1i \n",
      "+0.0+0.0i -0.0-0.0i +0.0-0.0i -0.3-0.3i -0.3+0.2i -0.2+0.2i +0.1-0.3i +0.1-0.4i -0.1+0.1i +0.1+0.3i -0.1-0.4i +0.1+0.2i \n",
      "+0.0+0.0i +0.0-0.0i -0.0-0.0i -0.3-0.3i -0.1+0.1i -0.3+0.1i -0.3+0.5i +0.0+0.3i -0.2+0.3i +0.3-0.1i +0.1+0.1i -0.2-0.1i \n",
      "-0.0-0.0i +0.0+0.1i -0.0+0.0i -0.1-0.1i +0.0-0.3i +0.3+0.3i -0.1+0.1i -0.5+0.0i -0.2-0.0i -0.3+0.3i +0.0-0.0i -0.3+0.4i \n",
      "-0.0-0.0i +0.0+0.0i +0.0+0.0i -0.2-0.1i -0.0-0.2i +0.1+0.2i +0.3+0.1i +0.1+0.1i -0.2-0.7i +0.4-0.1i -0.1-0.1i +0.0-0.1i \n",
      "-0.0-0.0i -0.0+0.0i +0.0+0.0i -0.1-0.2i -0.3-0.2i +0.1+0.0i +0.1+0.2i +0.0-0.4i +0.1-0.0i +0.0+0.1i +0.1+0.6i +0.3-0.0i \n",
      "+0.0+0.0i -0.0-0.0i -0.0-0.0i +0.0-0.3i -0.3+0.3i -0.2-0.1i +0.3-0.1i -0.3+0.3i +0.2-0.1i -0.2-0.2i -0.4+0.1i -0.1+0.1i \n",
      "+0.0-0.0i -0.0+0.0i -0.0+0.0i -0.4-0.2i +0.3-0.4i -0.1-0.1i +0.1+0.0i -0.1+0.1i -0.1+0.2i -0.3-0.2i +0.0-0.2i +0.5-0.2i \n",
      "+0.0+0.0i -0.0-0.0i +0.0-0.0i -0.1-0.4i +0.1-0.0i +0.6-0.1i +0.1-0.2i +0.1+0.0i +0.1+0.2i +0.1+0.1i +0.0+0.0i -0.3-0.3i \n"
     ]
    }
   ],
   "source": [
    "utilities.printonscreennp(Tfinal)"
   ]
  },
  {
   "cell_type": "markdown",
   "metadata": {},
   "source": [
    "# Scaling of needed epochs with respect to M"
   ]
  },
  {
   "cell_type": "code",
   "execution_count": 18,
   "metadata": {},
   "outputs": [
    {
     "name": "stdout",
     "output_type": "stream",
     "text": [
      "Running with M 3 ntrain 300 nvalid 50\n",
      "Convergence in validation reached at epoch 2\n",
      "Running with M 8 ntrain 300 nvalid 50\n",
      "Convergence in validation reached at epoch 4\n",
      "Running with M 13 ntrain 300 nvalid 50\n",
      "Convergence in validation reached at epoch 6\n",
      "Running with M 18 ntrain 300 nvalid 50\n",
      "Convergence in validation reached at epoch 6\n",
      "Running with M 23 ntrain 300 nvalid 50\n",
      "Convergence in validation reached at epoch 6\n",
      "Running with M 28 ntrain 300 nvalid 50\n",
      "Convergence in validation reached at epoch 8\n",
      "Running with M 33 ntrain 300 nvalid 50\n",
      "Convergence in validation reached at epoch 8\n",
      "Running with M 38 ntrain 300 nvalid 50\n",
      "Convergence in validation reached at epoch 8\n",
      "Running with M 43 ntrain 300 nvalid 50\n",
      "Convergence in validation reached at epoch 10\n",
      "Running with M 48 ntrain 300 nvalid 50\n",
      "Convergence in validation reached at epoch 10\n",
      "Running with M 53 ntrain 300 nvalid 50\n",
      "Convergence in validation reached at epoch 12\n",
      "Running with M 58 ntrain 300 nvalid 50\n",
      "Convergence in validation reached at epoch 12\n",
      "Running with M 63 ntrain 300 nvalid 50\n",
      "Convergence in validation reached at epoch 12\n",
      "Running with M 68 ntrain 300 nvalid 50\n",
      "Convergence in validation reached at epoch 14\n",
      "Running with M 73 ntrain 300 nvalid 50\n",
      "Convergence in validation reached at epoch 14\n",
      "Running with M 78 ntrain 300 nvalid 50\n",
      "Convergence in validation reached at epoch 14\n",
      "Running with M 83 ntrain 300 nvalid 50\n",
      "Convergence in validation reached at epoch 16\n",
      "Running with M 88 ntrain 300 nvalid 50\n",
      "Convergence in validation reached at epoch 16\n",
      "Running with M 93 ntrain 300 nvalid 50\n",
      "Convergence in validation reached at epoch 16\n",
      "Running with M 98 ntrain 300 nvalid 50\n",
      "Convergence in validation reached at epoch 16\n"
     ]
    }
   ],
   "source": [
    "Mmin=3\n",
    "Mmax=100\n",
    "step=5\n",
    "Ms=list()\n",
    "Nepoch=list()\n",
    "count=0\n",
    "for im in range(Mmin,Mmax+1,5):\n",
    "    Ms.append(im)\n",
    "    out, _, _, _=quantumgatesinference.trainrandom(X_np,im,verbose=1,ntrain=300)\n",
    "    Nepoch.append(out['epoch'])\n",
    "    count=count+1\n",
    "    "
   ]
  },
  {
   "cell_type": "code",
   "execution_count": 24,
   "metadata": {},
   "outputs": [
    {
     "data": {
      "image/png": "[encoded data removed]",
      "text/plain": [
       "<Figure size 432x288 with 1 Axes>"
      ]
     },
     "metadata": {
      "needs_background": "light"
     },
     "output_type": "display_data"
    }
   ],
   "source": [
    "plt.plot(Ms,Nepoch)\n",
    "plt.xlabel('Embedding dimension M')\n",
    "plt.ylabel('Epochs')\n",
    "plt.savefig('figurescaling.eps', dpi=600, facecolor='w', edgecolor='w',\n",
    "        orientation='portrait', papertype=None, format='eps',\n",
    "        transparent=False, bbox_inches=None, pad_inches=0.1)"
   ]
  },
  {
   "cell_type": "code",
   "execution_count": 20,
   "metadata": {},
   "outputs": [
    {
     "name": "stdout",
     "output_type": "stream",
     "text": [
      "[2, 4, 6, 6, 6, 8, 8, 8, 10, 10, 12, 12, 12, 14, 14, 14, 16, 16, 16, 16]\n"
     ]
    }
   ],
   "source": [
    "print(Nepoch)"
   ]
  },
  {
   "cell_type": "code",
   "execution_count": 21,
   "metadata": {},
   "outputs": [
    {
     "name": "stdout",
     "output_type": "stream",
     "text": [
      "{'accuracy': 0.0001, 'epoch': 16, 'ntrain': 300, 'nvalid': 50, 'N': 3, 'M': 98, 'X': array([[0.+0.j, 1.+0.j, 0.+0.j],\n",
      "       [0.+0.j, 0.+0.j, 1.+0.j],\n",
      "       [1.+0.j, 0.+0.j, 0.+0.j]], dtype=complex64)}\n"
     ]
    }
   ],
   "source": [
    "print(out)"
   ]
  },
  {
   "cell_type": "code",
   "execution_count": 22,
   "metadata": {},
   "outputs": [
    {
     "name": "stdout",
     "output_type": "stream",
     "text": [
      "[3, 8, 13, 18, 23, 28, 33, 38, 43, 48, 53, 58, 63, 68, 73, 78, 83, 88, 93, 98]\n"
     ]
    }
   ],
   "source": [
    "print(Ms)"
   ]
  },
  {
   "cell_type": "code",
   "execution_count": 23,
   "metadata": {},
   "outputs": [
    {
     "name": "stdout",
     "output_type": "stream",
     "text": [
      "[2, 4, 6, 6, 6, 8, 8, 8, 10, 10, 12, 12, 12, 14, 14, 14, 16, 16, 16, 16]\n"
     ]
    }
   ],
   "source": [
    "print(Nepoch)"
   ]
  }
 ],
 "metadata": {
  "kernelspec": {
   "display_name": "Python 3",
   "language": "python",
   "name": "python3"
  },
  "language_info": {
   "codemirror_mode": {
    "name": "ipython",
    "version": 3
   },
   "file_extension": ".py",
   "mimetype": "text/x-python",
   "name": "python",
   "nbconvert_exporter": "python",
   "pygments_lexer": "ipython3",
   "version": "3.6.10"
  }
 },
 "nbformat": 4,
 "nbformat_minor": 4
}
